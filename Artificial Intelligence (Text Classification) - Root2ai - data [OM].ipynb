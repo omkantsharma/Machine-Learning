{
 "cells": [
  {
   "cell_type": "markdown",
   "metadata": {},
   "source": [
    "### Performing Sentiment Analysis using Text Classification"
   ]
  },
  {
   "cell_type": "code",
   "execution_count": 59,
   "metadata": {},
   "outputs": [
    {
     "name": "stderr",
     "output_type": "stream",
     "text": [
      "[nltk_data] Downloading package stopwords to\n",
      "[nltk_data]     C:\\Users\\Avinash\\AppData\\Roaming\\nltk_data...\n",
      "[nltk_data]   Package stopwords is already up-to-date!\n"
     ]
    }
   ],
   "source": [
    "import pandas as pd\n",
    "import numpy as np\n",
    "import re\n",
    "import nltk\n",
    "from sklearn.datasets import load_files\n",
    "import pickle\n",
    "from nltk.corpus import stopwords"
   ]
  },
  {
   "cell_type": "markdown",
   "metadata": {},
   "source": [
    "### Loading Data"
   ]
  },
  {
   "cell_type": "code",
   "execution_count": 61,
   "metadata": {},
   "outputs": [
    {
     "data": {
      "text/html": [
       "<div>\n",
       "<style scoped>\n",
       "    .dataframe tbody tr th:only-of-type {\n",
       "        vertical-align: middle;\n",
       "    }\n",
       "\n",
       "    .dataframe tbody tr th {\n",
       "        vertical-align: top;\n",
       "    }\n",
       "\n",
       "    .dataframe thead th {\n",
       "        text-align: right;\n",
       "    }\n",
       "</style>\n",
       "<table border=\"1\" class=\"dataframe\">\n",
       "  <thead>\n",
       "    <tr style=\"text-align: right;\">\n",
       "      <th></th>\n",
       "      <th>Text</th>\n",
       "      <th>Target</th>\n",
       "    </tr>\n",
       "  </thead>\n",
       "  <tbody>\n",
       "    <tr>\n",
       "      <th>0</th>\n",
       "      <td>reserve bank forming expert committee based in...</td>\n",
       "      <td>Blockchain</td>\n",
       "    </tr>\n",
       "    <tr>\n",
       "      <th>1</th>\n",
       "      <td>director could play role financial system</td>\n",
       "      <td>Blockchain</td>\n",
       "    </tr>\n",
       "    <tr>\n",
       "      <th>2</th>\n",
       "      <td>preliminary discuss secure transaction study r...</td>\n",
       "      <td>Blockchain</td>\n",
       "    </tr>\n",
       "    <tr>\n",
       "      <th>3</th>\n",
       "      <td>security indeed prove essential transforming f...</td>\n",
       "      <td>Blockchain</td>\n",
       "    </tr>\n",
       "    <tr>\n",
       "      <th>4</th>\n",
       "      <td>bank settlement normally take three days based...</td>\n",
       "      <td>Blockchain</td>\n",
       "    </tr>\n",
       "  </tbody>\n",
       "</table>\n",
       "</div>"
      ],
      "text/plain": [
       "                                                Text      Target\n",
       "0  reserve bank forming expert committee based in...  Blockchain\n",
       "1          director could play role financial system  Blockchain\n",
       "2  preliminary discuss secure transaction study r...  Blockchain\n",
       "3  security indeed prove essential transforming f...  Blockchain\n",
       "4  bank settlement normally take three days based...  Blockchain"
      ]
     },
     "execution_count": 61,
     "metadata": {},
     "output_type": "execute_result"
    }
   ],
   "source": [
    "df = pd.read_csv(\"C:/Users/root2ai - Data.csv\")\n",
    "df.head()"
   ]
  },
  {
   "cell_type": "code",
   "execution_count": 62,
   "metadata": {},
   "outputs": [
    {
     "data": {
      "text/plain": [
       "Text      3\n",
       "Target    0\n",
       "dtype: int64"
      ]
     },
     "execution_count": 62,
     "metadata": {},
     "output_type": "execute_result"
    }
   ],
   "source": [
    "df.isnull().sum()"
   ]
  },
  {
   "cell_type": "code",
   "execution_count": 63,
   "metadata": {},
   "outputs": [
    {
     "data": {
      "text/plain": [
       "(22704, 2)"
      ]
     },
     "execution_count": 63,
     "metadata": {},
     "output_type": "execute_result"
    }
   ],
   "source": [
    "df.shape"
   ]
  },
  {
   "cell_type": "code",
   "execution_count": 64,
   "metadata": {},
   "outputs": [
    {
     "data": {
      "text/plain": [
       "(22701, 2)"
      ]
     },
     "execution_count": 64,
     "metadata": {},
     "output_type": "execute_result"
    }
   ],
   "source": [
    "df.dropna(axis=0, how=\"any\", inplace=False).shape"
   ]
  },
  {
   "cell_type": "code",
   "execution_count": 65,
   "metadata": {},
   "outputs": [
    {
     "data": {
      "text/plain": [
       "Text      0\n",
       "Target    0\n",
       "dtype: int64"
      ]
     },
     "execution_count": 65,
     "metadata": {},
     "output_type": "execute_result"
    }
   ],
   "source": [
    "df.dropna(axis=0, how='any',inplace=False).isnull().sum()"
   ]
  },
  {
   "cell_type": "code",
   "execution_count": 66,
   "metadata": {},
   "outputs": [],
   "source": [
    "r=df.dropna(axis=0, how='any',inplace=False) \n",
    "# https://medium.com/analytics-vidhya/data-cleaning-in-natural-language-processing-1f77ec1f6406"
   ]
  },
  {
   "cell_type": "code",
   "execution_count": 67,
   "metadata": {},
   "outputs": [
    {
     "data": {
      "text/plain": [
       "Text      0\n",
       "Target    0\n",
       "dtype: int64"
      ]
     },
     "execution_count": 67,
     "metadata": {},
     "output_type": "execute_result"
    }
   ],
   "source": [
    "r.isnull().sum()"
   ]
  },
  {
   "cell_type": "code",
   "execution_count": 68,
   "metadata": {},
   "outputs": [
    {
     "data": {
      "text/plain": [
       "(22701, 2)"
      ]
     },
     "execution_count": 68,
     "metadata": {},
     "output_type": "execute_result"
    }
   ],
   "source": [
    "r.shape"
   ]
  },
  {
   "cell_type": "code",
   "execution_count": 69,
   "metadata": {},
   "outputs": [
    {
     "data": {
      "text/plain": [
       "Text      20986\n",
       "Target       11\n",
       "dtype: int64"
      ]
     },
     "execution_count": 69,
     "metadata": {},
     "output_type": "execute_result"
    }
   ],
   "source": [
    "r.nunique()"
   ]
  },
  {
   "cell_type": "code",
   "execution_count": 70,
   "metadata": {},
   "outputs": [
    {
     "name": "stdout",
     "output_type": "stream",
     "text": [
      "billion                                                                                                                                                                                              41\n",
      "para                                                                                                                                                                                                 31\n",
      "ncbi                                                                                                                                                                                                 27\n",
      "retrieved october                                                                                                                                                                                    21\n",
      "versus                                                                                                                                                                                               17\n",
      "                                                                                                                                                                                                     ..\n",
      "create completely business current                                                                                                                                                                    1\n",
      "involved financial tech need consider simple needs always present burning                                                                                                                             1\n",
      "self driving connected household driver time consider whether today would like optimize daily household spending optimization short term trading portfolio instead long term investment portfolio     1\n",
      "success scaling community born deep understanding global technological                                                                                                                                1\n",
      "such data help expand customer base include difficult underwrite unbanked                                                                                                                             1\n",
      "Name: Text, Length: 20986, dtype: int64\n"
     ]
    }
   ],
   "source": [
    "x=df['Text']\n",
    "print(x.value_counts())"
   ]
  },
  {
   "cell_type": "code",
   "execution_count": 71,
   "metadata": {},
   "outputs": [
    {
     "name": "stdout",
     "output_type": "stream",
     "text": [
      "FinTech             8551\n",
      "Cyber Security      2640\n",
      "Bigdata             2267\n",
      "Reg Tech            2206\n",
      "credit reporting    1748\n",
      "Blockchain          1375\n",
      "Neobanks            1069\n",
      "Microservices        977\n",
      "Stock Trading        787\n",
      "Robo Advising        737\n",
      "Data Security        347\n",
      "Name: Target, dtype: int64\n"
     ]
    }
   ],
   "source": [
    "y=df['Target']\n",
    "print(y.value_counts())"
   ]
  },
  {
   "cell_type": "code",
   "execution_count": 72,
   "metadata": {},
   "outputs": [
    {
     "name": "stdout",
     "output_type": "stream",
     "text": [
      "<class 'pandas.core.frame.DataFrame'>\n",
      "Int64Index: 22701 entries, 0 to 22703\n",
      "Data columns (total 2 columns):\n",
      " #   Column  Non-Null Count  Dtype \n",
      "---  ------  --------------  ----- \n",
      " 0   Text    22701 non-null  object\n",
      " 1   Target  22701 non-null  object\n",
      "dtypes: object(2)\n",
      "memory usage: 532.1+ KB\n"
     ]
    }
   ],
   "source": [
    "r.info()"
   ]
  },
  {
   "cell_type": "code",
   "execution_count": 74,
   "metadata": {},
   "outputs": [
    {
     "data": {
      "text/plain": [
       "FinTech             8551\n",
       "Cyber Security      2640\n",
       "Bigdata             2267\n",
       "Reg Tech            2206\n",
       "credit reporting    1748\n",
       "Blockchain          1375\n",
       "Neobanks            1069\n",
       "Microservices        974\n",
       "Stock Trading        787\n",
       "Robo Advising        737\n",
       "Data Security        347\n",
       "Name: Target, dtype: int64"
      ]
     },
     "execution_count": 74,
     "metadata": {},
     "output_type": "execute_result"
    }
   ],
   "source": [
    "r.Target.value_counts()"
   ]
  },
  {
   "cell_type": "code",
   "execution_count": 203,
   "metadata": {},
   "outputs": [
    {
     "data": {
      "text/html": [
       "<div>\n",
       "<style scoped>\n",
       "    .dataframe tbody tr th:only-of-type {\n",
       "        vertical-align: middle;\n",
       "    }\n",
       "\n",
       "    .dataframe tbody tr th {\n",
       "        vertical-align: top;\n",
       "    }\n",
       "\n",
       "    .dataframe thead th {\n",
       "        text-align: right;\n",
       "    }\n",
       "</style>\n",
       "<table border=\"1\" class=\"dataframe\">\n",
       "  <thead>\n",
       "    <tr style=\"text-align: right;\">\n",
       "      <th></th>\n",
       "      <th>Text</th>\n",
       "    </tr>\n",
       "    <tr>\n",
       "      <th>Target</th>\n",
       "      <th></th>\n",
       "    </tr>\n",
       "  </thead>\n",
       "  <tbody>\n",
       "    <tr>\n",
       "      <th>Bigdata</th>\n",
       "      <td>2267</td>\n",
       "    </tr>\n",
       "    <tr>\n",
       "      <th>Blockchain</th>\n",
       "      <td>1375</td>\n",
       "    </tr>\n",
       "    <tr>\n",
       "      <th>Cyber Security</th>\n",
       "      <td>2640</td>\n",
       "    </tr>\n",
       "    <tr>\n",
       "      <th>Data Security</th>\n",
       "      <td>347</td>\n",
       "    </tr>\n",
       "    <tr>\n",
       "      <th>FinTech</th>\n",
       "      <td>8551</td>\n",
       "    </tr>\n",
       "    <tr>\n",
       "      <th>Microservices</th>\n",
       "      <td>974</td>\n",
       "    </tr>\n",
       "    <tr>\n",
       "      <th>Neobanks</th>\n",
       "      <td>1069</td>\n",
       "    </tr>\n",
       "    <tr>\n",
       "      <th>Reg Tech</th>\n",
       "      <td>2206</td>\n",
       "    </tr>\n",
       "    <tr>\n",
       "      <th>Robo Advising</th>\n",
       "      <td>737</td>\n",
       "    </tr>\n",
       "    <tr>\n",
       "      <th>Stock Trading</th>\n",
       "      <td>787</td>\n",
       "    </tr>\n",
       "    <tr>\n",
       "      <th>credit reporting</th>\n",
       "      <td>1748</td>\n",
       "    </tr>\n",
       "  </tbody>\n",
       "</table>\n",
       "</div>"
      ],
      "text/plain": [
       "                  Text\n",
       "Target                \n",
       "Bigdata           2267\n",
       "Blockchain        1375\n",
       "Cyber Security    2640\n",
       "Data Security      347\n",
       "FinTech           8551\n",
       "Microservices      974\n",
       "Neobanks          1069\n",
       "Reg Tech          2206\n",
       "Robo Advising      737\n",
       "Stock Trading      787\n",
       "credit reporting  1748"
      ]
     },
     "execution_count": 203,
     "metadata": {},
     "output_type": "execute_result"
    }
   ],
   "source": [
    "r.groupby('Target').count()\n"
   ]
  },
  {
   "cell_type": "code",
   "execution_count": 204,
   "metadata": {},
   "outputs": [
    {
     "data": {
      "text/plain": [
       "Target\n",
       "Bigdata             2267\n",
       "Blockchain          1375\n",
       "Cyber Security      2640\n",
       "Data Security        347\n",
       "FinTech             8551\n",
       "Microservices        974\n",
       "Neobanks            1069\n",
       "Reg Tech            2206\n",
       "Robo Advising        737\n",
       "Stock Trading        787\n",
       "credit reporting    1748\n",
       "Name: Text, dtype: int64"
      ]
     },
     "execution_count": 204,
     "metadata": {},
     "output_type": "execute_result"
    }
   ],
   "source": [
    "Target_count['Text']"
   ]
  },
  {
   "cell_type": "code",
   "execution_count": 75,
   "metadata": {},
   "outputs": [
    {
     "data": {
      "image/png": "[encoded data removed]",
      "text/plain": [
       "<Figure size 1080x360 with 1 Axes>"
      ]
     },
     "metadata": {
      "needs_background": "light"
     },
     "output_type": "display_data"
    }
   ],
   "source": [
    "import matplotlib.pyplot as plt\n",
    "plt.figure(figsize=(15,5))\n",
    "Target_count=r.groupby('Target').count()\n",
    "plt.bar(Target_count.index.values, Target_count['Text'])\n",
    "plt.xlabel('Review Target')\n",
    "plt.ylabel('Number of Review')\n",
    "plt.title('Root2ai - Data Count')\n",
    "plt.xticks(rotation=90)\n",
    "plt.show()"
   ]
  },
  {
   "cell_type": "markdown",
   "metadata": {},
   "source": [
    "### Feature Generation using Bag of Words"
   ]
  },
  {
   "cell_type": "code",
   "execution_count": 206,
   "metadata": {},
   "outputs": [],
   "source": [
    "from sklearn.feature_extraction.text import CountVectorizer\n",
    "from nltk.tokenize import RegexpTokenizer\n",
    "# tokenizer to remove unwanted elements from out data like symbols and numbers\n",
    "token = RegexpTokenizer(r'[a-zA-Z0-9]+')\n",
    "cv = CountVectorizer(lowercase=True,stop_words='english',ngram_range=(1,1),tokenizer = token.tokenize)\n",
    "text_counts = cv.fit_transform(r['Text'])"
   ]
  },
  {
   "cell_type": "markdown",
   "metadata": {},
   "source": [
    "### Split train and test set"
   ]
  },
  {
   "cell_type": "code",
   "execution_count": 207,
   "metadata": {},
   "outputs": [],
   "source": [
    "from sklearn.model_selection import train_test_split\n",
    "x_train,x_test,y_train,y_text=train_test_split(\n",
    "    text_counts,r['Target'],test_size=0.3,random_state=1)"
   ]
  },
  {
   "cell_type": "code",
   "execution_count": 208,
   "metadata": {},
   "outputs": [
    {
     "name": "stdout",
     "output_type": "stream",
     "text": [
      "(15890, 11202)\n",
      "(6811, 11202)\n",
      "(15890,)\n",
      "(6811,)\n"
     ]
    }
   ],
   "source": [
    "print(x_train.shape)\n",
    "print(x_test.shape)\n",
    "print(y_train.shape)\n",
    "print(y_test.shape)"
   ]
  },
  {
   "cell_type": "markdown",
   "metadata": {},
   "source": [
    "# Model Building and Evaluation"
   ]
  },
  {
   "cell_type": "markdown",
   "metadata": {},
   "source": [
    "### 1.1 naive_bayes"
   ]
  },
  {
   "cell_type": "code",
   "execution_count": 281,
   "metadata": {},
   "outputs": [
    {
     "data": {
      "text/plain": [
       "MultinomialNB()"
      ]
     },
     "execution_count": 281,
     "metadata": {},
     "output_type": "execute_result"
    }
   ],
   "source": [
    "from sklearn.naive_bayes import MultinomialNB\n",
    "#Import scikit-learn metrics module for accuracy calculation\n",
    "from sklearn import metrics\n",
    "# Model Generation Using Multinomial Naive Bayes\n",
    "nb1= MultinomialNB().fit(x_train,y_train)\n",
    "nb1"
   ]
  },
  {
   "cell_type": "code",
   "execution_count": 287,
   "metadata": {},
   "outputs": [
    {
     "data": {
      "text/plain": [
       "0.47306482064191313"
      ]
     },
     "execution_count": 287,
     "metadata": {},
     "output_type": "execute_result"
    }
   ],
   "source": [
    "nb1.score(x_train,y_train)"
   ]
  },
  {
   "cell_type": "code",
   "execution_count": 288,
   "metadata": {},
   "outputs": [
    {
     "data": {
      "text/plain": [
       "0.3503156658346792"
      ]
     },
     "execution_count": 288,
     "metadata": {},
     "output_type": "execute_result"
    }
   ],
   "source": [
    "nb1.score(x_test,y_test)"
   ]
  },
  {
   "cell_type": "code",
   "execution_count": 291,
   "metadata": {},
   "outputs": [
    {
     "name": "stdout",
     "output_type": "stream",
     "text": [
      "6811\n"
     ]
    },
    {
     "data": {
      "text/plain": [
       "array(['FinTech', 'FinTech', 'FinTech', ..., 'FinTech', 'Blockchain',\n",
       "       'Bigdata'], dtype='<U16')"
      ]
     },
     "execution_count": 291,
     "metadata": {},
     "output_type": "execute_result"
    }
   ],
   "source": [
    "y_pred_nb1 = nb1.predict(x_test)\n",
    "print(len(y_pred_nb1))\n",
    "y_pred_nb1"
   ]
  },
  {
   "cell_type": "code",
   "execution_count": 295,
   "metadata": {},
   "outputs": [
    {
     "data": {
      "text/plain": [
       "0.3503156658346792"
      ]
     },
     "execution_count": 295,
     "metadata": {},
     "output_type": "execute_result"
    }
   ],
   "source": [
    "metrics.accuracy_score(y_test,y_pred_nb1)"
   ]
  },
  {
   "cell_type": "code",
   "execution_count": 278,
   "metadata": {},
   "outputs": [
    {
     "name": "stdout",
     "output_type": "stream",
     "text": [
      "MultinomialNB Accuracy: 0.3503156658346792\n"
     ]
    }
   ],
   "source": [
    "predicted = nb1.predict(x_test)\n",
    "print('MultinomialNB Accuracy:',metrics.accuracy_score(y_test,predicted))"
   ]
  },
  {
   "cell_type": "code",
   "execution_count": 296,
   "metadata": {},
   "outputs": [
    {
     "data": {
      "text/html": [
       "<div>\n",
       "<style scoped>\n",
       "    .dataframe tbody tr th:only-of-type {\n",
       "        vertical-align: middle;\n",
       "    }\n",
       "\n",
       "    .dataframe tbody tr th {\n",
       "        vertical-align: top;\n",
       "    }\n",
       "\n",
       "    .dataframe thead th {\n",
       "        text-align: right;\n",
       "    }\n",
       "</style>\n",
       "<table border=\"1\" class=\"dataframe\">\n",
       "  <thead>\n",
       "    <tr style=\"text-align: right;\">\n",
       "      <th></th>\n",
       "      <th>y_test</th>\n",
       "      <th>y_pred_nb1</th>\n",
       "    </tr>\n",
       "  </thead>\n",
       "  <tbody>\n",
       "    <tr>\n",
       "      <th>15821</th>\n",
       "      <td>FinTech</td>\n",
       "      <td>FinTech</td>\n",
       "    </tr>\n",
       "    <tr>\n",
       "      <th>12958</th>\n",
       "      <td>FinTech</td>\n",
       "      <td>FinTech</td>\n",
       "    </tr>\n",
       "    <tr>\n",
       "      <th>7843</th>\n",
       "      <td>Cyber Security</td>\n",
       "      <td>FinTech</td>\n",
       "    </tr>\n",
       "    <tr>\n",
       "      <th>15327</th>\n",
       "      <td>FinTech</td>\n",
       "      <td>FinTech</td>\n",
       "    </tr>\n",
       "    <tr>\n",
       "      <th>11160</th>\n",
       "      <td>FinTech</td>\n",
       "      <td>FinTech</td>\n",
       "    </tr>\n",
       "  </tbody>\n",
       "</table>\n",
       "</div>"
      ],
      "text/plain": [
       "               y_test y_pred_nb1\n",
       "15821         FinTech    FinTech\n",
       "12958         FinTech    FinTech\n",
       "7843   Cyber Security    FinTech\n",
       "15327         FinTech    FinTech\n",
       "11160         FinTech    FinTech"
      ]
     },
     "execution_count": 296,
     "metadata": {},
     "output_type": "execute_result"
    }
   ],
   "source": [
    "nb1_df=pd.DataFrame({'y_test':y_test,'y_pred_nb1':y_pred_nb1})\n",
    "nb1_df.head()"
   ]
  },
  {
   "cell_type": "code",
   "execution_count": 299,
   "metadata": {},
   "outputs": [
    {
     "data": {
      "text/plain": [
       "y_test            y_pred_nb1      \n",
       "Bigdata           Bigdata              15\n",
       "                  Blockchain            4\n",
       "                  Cyber Security       24\n",
       "                  Data Security         2\n",
       "                  FinTech             598\n",
       "                                     ... \n",
       "credit reporting  Neobanks              3\n",
       "                  Reg Tech              9\n",
       "                  Robo Advising         1\n",
       "                  Stock Trading         1\n",
       "                  credit reporting      5\n",
       "Name: y_pred_nb1, Length: 96, dtype: int64"
      ]
     },
     "execution_count": 299,
     "metadata": {},
     "output_type": "execute_result"
    }
   ],
   "source": [
    "nb1_df.groupby(['y_test','y_pred_nb1'])['y_pred_nb1'].count()"
   ]
  },
  {
   "cell_type": "code",
   "execution_count": 297,
   "metadata": {},
   "outputs": [],
   "source": [
    "from sklearn.metrics import confusion_matrix,classification_report,accuracy_score"
   ]
  },
  {
   "cell_type": "code",
   "execution_count": 302,
   "metadata": {},
   "outputs": [
    {
     "name": "stdout",
     "output_type": "stream",
     "text": [
      "[[  15    4   24    2  598    2    4   11    1    1   10]\n",
      " [  13    4   11    1  346    6    2   11    0    1    6]\n",
      " [  20    9   15    0  718    3    4   12    2    2    9]\n",
      " [   3    0    6    1   95    0    0    2    0    0    0]\n",
      " [  63   18   82    4 2327    4   10   65    3    4   38]\n",
      " [   7    2    7    0  266    4    1    5    0    0    2]\n",
      " [  10    4   14    0  262    0    1    7    1    2    4]\n",
      " [  13    4   19    0  595    0    2   14    6    2    4]\n",
      " [   2    2    7    0  190    1    0    1    0    0    5]\n",
      " [   6    0    7    0  223    0    0    1    1    0    5]\n",
      " [  16    4   11    0  458    2    3    9    1    1    5]]\n"
     ]
    }
   ],
   "source": [
    "print(confusion_matrix (y_test,y_pred))"
   ]
  },
  {
   "cell_type": "code",
   "execution_count": 303,
   "metadata": {},
   "outputs": [
    {
     "name": "stdout",
     "output_type": "stream",
     "text": [
      "                  precision    recall  f1-score   support\n",
      "\n",
      "         Bigdata       0.09      0.02      0.04       672\n",
      "      Blockchain       0.08      0.01      0.02       401\n",
      "  Cyber Security       0.07      0.02      0.03       794\n",
      "   Data Security       0.12      0.01      0.02       107\n",
      "         FinTech       0.38      0.89      0.54      2618\n",
      "   Microservices       0.18      0.01      0.03       294\n",
      "        Neobanks       0.04      0.00      0.01       305\n",
      "        Reg Tech       0.10      0.02      0.04       659\n",
      "   Robo Advising       0.00      0.00      0.00       208\n",
      "   Stock Trading       0.00      0.00      0.00       243\n",
      "credit reporting       0.06      0.01      0.02       510\n",
      "\n",
      "        accuracy                           0.35      6811\n",
      "       macro avg       0.10      0.09      0.07      6811\n",
      "    weighted avg       0.19      0.35      0.22      6811\n",
      "\n"
     ]
    }
   ],
   "source": [
    "print(classification_report (y_test,y_pred))"
   ]
  },
  {
   "cell_type": "code",
   "execution_count": 307,
   "metadata": {},
   "outputs": [
    {
     "data": {
      "text/plain": [
       "0.3503156658346792"
      ]
     },
     "execution_count": 307,
     "metadata": {},
     "output_type": "execute_result"
    }
   ],
   "source": [
    "metrics.accuracy_score(y_test,y_pred_nb1)"
   ]
  },
  {
   "cell_type": "markdown",
   "metadata": {},
   "source": [
    "### Feature Generation using TF-IDF"
   ]
  },
  {
   "cell_type": "code",
   "execution_count": 221,
   "metadata": {},
   "outputs": [],
   "source": [
    "from sklearn.feature_extraction.text import TfidfVectorizer\n",
    "tf=TfidfVectorizer()\n",
    "text_tf=tf.fit_transform(r['Text'])"
   ]
  },
  {
   "cell_type": "markdown",
   "metadata": {},
   "source": [
    "### Split train and test set (TF-IDF)"
   ]
  },
  {
   "cell_type": "code",
   "execution_count": 218,
   "metadata": {},
   "outputs": [
    {
     "name": "stdout",
     "output_type": "stream",
     "text": [
      "(15890, 11202)\n",
      "(6811, 11202)\n",
      "(15890,)\n",
      "(6811,)\n"
     ]
    }
   ],
   "source": [
    "from sklearn.model_selection import train_test_split\n",
    "X_train, X_test, y_train, y_test = train_test_split(\n",
    "    text_tf, r['Target'], test_size=0.3, random_state=123)\n",
    "print(x_train.shape)\n",
    "print(x_test.shape)\n",
    "print(y_train.shape)\n",
    "print(y_test.shape)"
   ]
  },
  {
   "cell_type": "markdown",
   "metadata": {},
   "source": [
    "### Model Building and Evaluation (TF-IDF)"
   ]
  },
  {
   "cell_type": "markdown",
   "metadata": {},
   "source": [
    "#### 1.2 Naive Bayes"
   ]
  },
  {
   "cell_type": "code",
   "execution_count": 317,
   "metadata": {},
   "outputs": [
    {
     "data": {
      "text/plain": [
       "MultinomialNB()"
      ]
     },
     "execution_count": 317,
     "metadata": {},
     "output_type": "execute_result"
    }
   ],
   "source": [
    "from sklearn.naive_bayes import MultinomialNB\n",
    "#Import scikit-learn metrics module for accuracy calculation\n",
    "from sklearn import metrics\n",
    "# Model Generation Using Multinomial Naive Bayes\n",
    "nb2= MultinomialNB().fit(X_train,y_train)\n",
    "nb2"
   ]
  },
  {
   "cell_type": "code",
   "execution_count": 318,
   "metadata": {},
   "outputs": [
    {
     "name": "stdout",
     "output_type": "stream",
     "text": [
      "MultinomialNB Accuracy: 0.5129936866833065\n"
     ]
    }
   ],
   "source": [
    "print(\"MultinomialNB Accuracy:\",metrics.accuracy_score(y_test, predicted))"
   ]
  },
  {
   "cell_type": "code",
   "execution_count": 331,
   "metadata": {},
   "outputs": [
    {
     "data": {
      "text/plain": [
       "0.5129936866833065"
      ]
     },
     "execution_count": 331,
     "metadata": {},
     "output_type": "execute_result"
    }
   ],
   "source": [
    "metrics.accuracy_score(y_test,y_pred_nb2)"
   ]
  },
  {
   "cell_type": "code",
   "execution_count": 319,
   "metadata": {},
   "outputs": [
    {
     "data": {
      "text/plain": [
       "0.5522970421648836"
      ]
     },
     "execution_count": 319,
     "metadata": {},
     "output_type": "execute_result"
    }
   ],
   "source": [
    "nb2.score(X_train,y_train)"
   ]
  },
  {
   "cell_type": "code",
   "execution_count": 320,
   "metadata": {},
   "outputs": [
    {
     "data": {
      "text/plain": [
       "0.5129936866833065"
      ]
     },
     "execution_count": 320,
     "metadata": {},
     "output_type": "execute_result"
    }
   ],
   "source": [
    "nb2.score(X_test,y_test)"
   ]
  },
  {
   "cell_type": "code",
   "execution_count": 322,
   "metadata": {},
   "outputs": [
    {
     "name": "stdout",
     "output_type": "stream",
     "text": [
      "6811\n"
     ]
    },
    {
     "data": {
      "text/plain": [
       "array(['FinTech', 'FinTech', 'FinTech', ..., 'FinTech', 'FinTech',\n",
       "       'FinTech'], dtype='<U16')"
      ]
     },
     "execution_count": 322,
     "metadata": {},
     "output_type": "execute_result"
    }
   ],
   "source": [
    "y_pred_nb2 = nb2.predict(X_test)\n",
    "print(len(y_pred_nb2))\n",
    "y_pred_nb2"
   ]
  },
  {
   "cell_type": "code",
   "execution_count": 323,
   "metadata": {},
   "outputs": [
    {
     "data": {
      "text/html": [
       "<div>\n",
       "<style scoped>\n",
       "    .dataframe tbody tr th:only-of-type {\n",
       "        vertical-align: middle;\n",
       "    }\n",
       "\n",
       "    .dataframe tbody tr th {\n",
       "        vertical-align: top;\n",
       "    }\n",
       "\n",
       "    .dataframe thead th {\n",
       "        text-align: right;\n",
       "    }\n",
       "</style>\n",
       "<table border=\"1\" class=\"dataframe\">\n",
       "  <thead>\n",
       "    <tr style=\"text-align: right;\">\n",
       "      <th></th>\n",
       "      <th>y_test</th>\n",
       "      <th>y_pred_nb2</th>\n",
       "    </tr>\n",
       "  </thead>\n",
       "  <tbody>\n",
       "    <tr>\n",
       "      <th>15821</th>\n",
       "      <td>FinTech</td>\n",
       "      <td>FinTech</td>\n",
       "    </tr>\n",
       "    <tr>\n",
       "      <th>12958</th>\n",
       "      <td>FinTech</td>\n",
       "      <td>FinTech</td>\n",
       "    </tr>\n",
       "    <tr>\n",
       "      <th>7843</th>\n",
       "      <td>Cyber Security</td>\n",
       "      <td>FinTech</td>\n",
       "    </tr>\n",
       "    <tr>\n",
       "      <th>15327</th>\n",
       "      <td>FinTech</td>\n",
       "      <td>FinTech</td>\n",
       "    </tr>\n",
       "    <tr>\n",
       "      <th>11160</th>\n",
       "      <td>FinTech</td>\n",
       "      <td>Cyber Security</td>\n",
       "    </tr>\n",
       "  </tbody>\n",
       "</table>\n",
       "</div>"
      ],
      "text/plain": [
       "               y_test      y_pred_nb2\n",
       "15821         FinTech         FinTech\n",
       "12958         FinTech         FinTech\n",
       "7843   Cyber Security         FinTech\n",
       "15327         FinTech         FinTech\n",
       "11160         FinTech  Cyber Security"
      ]
     },
     "execution_count": 323,
     "metadata": {},
     "output_type": "execute_result"
    }
   ],
   "source": [
    "nb2_df=pd.DataFrame({'y_test':y_test,'y_pred_nb2':y_pred_nb2})\n",
    "nb2_df.head()"
   ]
  },
  {
   "cell_type": "code",
   "execution_count": 324,
   "metadata": {},
   "outputs": [
    {
     "data": {
      "text/plain": [
       "y_test            y_pred_nb2      \n",
       "Bigdata           Bigdata              289\n",
       "                  Blockchain             1\n",
       "                  Cyber Security         3\n",
       "                  FinTech              360\n",
       "                  Reg Tech              19\n",
       "Blockchain        Blockchain            20\n",
       "                  Cyber Security         1\n",
       "                  FinTech              380\n",
       "Cyber Security    Cyber Security       172\n",
       "                  FinTech              620\n",
       "                  credit reporting       2\n",
       "Data Security     Cyber Security        12\n",
       "                  FinTech               95\n",
       "FinTech           Bigdata                3\n",
       "                  Cyber Security         9\n",
       "                  FinTech             2600\n",
       "                  Reg Tech               2\n",
       "                  credit reporting       4\n",
       "Microservices     Cyber Security         2\n",
       "                  FinTech              287\n",
       "                  Microservices          5\n",
       "Neobanks          Cyber Security         1\n",
       "                  FinTech              303\n",
       "                  credit reporting       1\n",
       "Reg Tech          Bigdata               12\n",
       "                  Blockchain             1\n",
       "                  Cyber Security         9\n",
       "                  FinTech              268\n",
       "                  Reg Tech             369\n",
       "Robo Advising     Cyber Security         2\n",
       "                  FinTech              206\n",
       "Stock Trading     Bigdata                1\n",
       "                  Cyber Security         1\n",
       "                  FinTech              231\n",
       "                  Stock Trading         10\n",
       "credit reporting  Cyber Security        10\n",
       "                  FinTech              471\n",
       "                  credit reporting      29\n",
       "Name: y_pred_nb2, dtype: int64"
      ]
     },
     "execution_count": 324,
     "metadata": {},
     "output_type": "execute_result"
    }
   ],
   "source": [
    "nb2_df.groupby(['y_test','y_pred_nb2'])['y_pred_nb2'].count()"
   ]
  },
  {
   "cell_type": "code",
   "execution_count": 327,
   "metadata": {},
   "outputs": [],
   "source": [
    "from sklearn.metrics import confusion_matrix,classification_report,accuracy_score"
   ]
  },
  {
   "cell_type": "code",
   "execution_count": 328,
   "metadata": {},
   "outputs": [
    {
     "name": "stdout",
     "output_type": "stream",
     "text": [
      "[[  15    4   24    2  598    2    4   11    1    1   10]\n",
      " [  13    4   11    1  346    6    2   11    0    1    6]\n",
      " [  20    9   15    0  718    3    4   12    2    2    9]\n",
      " [   3    0    6    1   95    0    0    2    0    0    0]\n",
      " [  63   18   82    4 2327    4   10   65    3    4   38]\n",
      " [   7    2    7    0  266    4    1    5    0    0    2]\n",
      " [  10    4   14    0  262    0    1    7    1    2    4]\n",
      " [  13    4   19    0  595    0    2   14    6    2    4]\n",
      " [   2    2    7    0  190    1    0    1    0    0    5]\n",
      " [   6    0    7    0  223    0    0    1    1    0    5]\n",
      " [  16    4   11    0  458    2    3    9    1    1    5]]\n"
     ]
    }
   ],
   "source": [
    "print(confusion_matrix (y_test,y_pred))"
   ]
  },
  {
   "cell_type": "code",
   "execution_count": 329,
   "metadata": {},
   "outputs": [
    {
     "name": "stdout",
     "output_type": "stream",
     "text": [
      "                  precision    recall  f1-score   support\n",
      "\n",
      "         Bigdata       0.09      0.02      0.04       672\n",
      "      Blockchain       0.08      0.01      0.02       401\n",
      "  Cyber Security       0.07      0.02      0.03       794\n",
      "   Data Security       0.12      0.01      0.02       107\n",
      "         FinTech       0.38      0.89      0.54      2618\n",
      "   Microservices       0.18      0.01      0.03       294\n",
      "        Neobanks       0.04      0.00      0.01       305\n",
      "        Reg Tech       0.10      0.02      0.04       659\n",
      "   Robo Advising       0.00      0.00      0.00       208\n",
      "   Stock Trading       0.00      0.00      0.00       243\n",
      "credit reporting       0.06      0.01      0.02       510\n",
      "\n",
      "        accuracy                           0.35      6811\n",
      "       macro avg       0.10      0.09      0.07      6811\n",
      "    weighted avg       0.19      0.35      0.22      6811\n",
      "\n"
     ]
    }
   ],
   "source": [
    "print(classification_report (y_test,y_pred))"
   ]
  },
  {
   "cell_type": "code",
   "execution_count": 330,
   "metadata": {},
   "outputs": [
    {
     "data": {
      "text/plain": [
       "0.5129936866833065"
      ]
     },
     "execution_count": 330,
     "metadata": {},
     "output_type": "execute_result"
    }
   ],
   "source": [
    "metrics.accuracy_score(y_test,y_pred_nb2)"
   ]
  },
  {
   "cell_type": "code",
   "execution_count": null,
   "metadata": {},
   "outputs": [],
   "source": []
  },
  {
   "cell_type": "markdown",
   "metadata": {},
   "source": [
    "## 2. Classification (Logistic Regression)"
   ]
  },
  {
   "cell_type": "code",
   "execution_count": 232,
   "metadata": {},
   "outputs": [
    {
     "name": "stderr",
     "output_type": "stream",
     "text": [
      "C:\\Users\\Avinash\\anaconda3\\lib\\site-packages\\sklearn\\linear_model\\_logistic.py:762: ConvergenceWarning: lbfgs failed to converge (status=1):\n",
      "STOP: TOTAL NO. of ITERATIONS REACHED LIMIT.\n",
      "\n",
      "Increase the number of iterations (max_iter) or scale the data as shown in:\n",
      "    https://scikit-learn.org/stable/modules/preprocessing.html\n",
      "Please also refer to the documentation for alternative solver options:\n",
      "    https://scikit-learn.org/stable/modules/linear_model.html#logistic-regression\n",
      "  n_iter_i = _check_optimize_result(\n"
     ]
    },
    {
     "data": {
      "text/plain": [
       "LogisticRegression()"
      ]
     },
     "execution_count": 232,
     "metadata": {},
     "output_type": "execute_result"
    }
   ],
   "source": [
    "from sklearn.linear_model import LogisticRegression\n",
    "lr =LogisticRegression()\n",
    "lr.fit(X_train,y_train)"
   ]
  },
  {
   "cell_type": "code",
   "execution_count": 233,
   "metadata": {},
   "outputs": [
    {
     "data": {
      "text/plain": [
       "0.7479546884833228"
      ]
     },
     "execution_count": 233,
     "metadata": {},
     "output_type": "execute_result"
    }
   ],
   "source": [
    "# accuracy score for training data\n",
    "lr.score(X_train,y_train)"
   ]
  },
  {
   "cell_type": "code",
   "execution_count": 234,
   "metadata": {},
   "outputs": [
    {
     "data": {
      "text/plain": [
       "6811"
      ]
     },
     "execution_count": 234,
     "metadata": {},
     "output_type": "execute_result"
    }
   ],
   "source": [
    "y_pred = lr.predict(X_test)\n",
    "len(y_pred)"
   ]
  },
  {
   "cell_type": "code",
   "execution_count": 235,
   "metadata": {},
   "outputs": [
    {
     "data": {
      "text/plain": [
       "0.6446924093378359"
      ]
     },
     "execution_count": 235,
     "metadata": {},
     "output_type": "execute_result"
    }
   ],
   "source": [
    "# accuracy score for testing data\n",
    "lr.score(X_test,y_test)"
   ]
  },
  {
   "cell_type": "code",
   "execution_count": 236,
   "metadata": {},
   "outputs": [
    {
     "data": {
      "text/html": [
       "<div>\n",
       "<style scoped>\n",
       "    .dataframe tbody tr th:only-of-type {\n",
       "        vertical-align: middle;\n",
       "    }\n",
       "\n",
       "    .dataframe tbody tr th {\n",
       "        vertical-align: top;\n",
       "    }\n",
       "\n",
       "    .dataframe thead th {\n",
       "        text-align: right;\n",
       "    }\n",
       "</style>\n",
       "<table border=\"1\" class=\"dataframe\">\n",
       "  <thead>\n",
       "    <tr style=\"text-align: right;\">\n",
       "      <th></th>\n",
       "      <th>y_test</th>\n",
       "      <th>y_pred</th>\n",
       "    </tr>\n",
       "  </thead>\n",
       "  <tbody>\n",
       "    <tr>\n",
       "      <th>15821</th>\n",
       "      <td>FinTech</td>\n",
       "      <td>FinTech</td>\n",
       "    </tr>\n",
       "    <tr>\n",
       "      <th>12958</th>\n",
       "      <td>FinTech</td>\n",
       "      <td>FinTech</td>\n",
       "    </tr>\n",
       "    <tr>\n",
       "      <th>7843</th>\n",
       "      <td>Cyber Security</td>\n",
       "      <td>FinTech</td>\n",
       "    </tr>\n",
       "    <tr>\n",
       "      <th>15327</th>\n",
       "      <td>FinTech</td>\n",
       "      <td>FinTech</td>\n",
       "    </tr>\n",
       "    <tr>\n",
       "      <th>11160</th>\n",
       "      <td>FinTech</td>\n",
       "      <td>Bigdata</td>\n",
       "    </tr>\n",
       "  </tbody>\n",
       "</table>\n",
       "</div>"
      ],
      "text/plain": [
       "               y_test   y_pred\n",
       "15821         FinTech  FinTech\n",
       "12958         FinTech  FinTech\n",
       "7843   Cyber Security  FinTech\n",
       "15327         FinTech  FinTech\n",
       "11160         FinTech  Bigdata"
      ]
     },
     "execution_count": 236,
     "metadata": {},
     "output_type": "execute_result"
    }
   ],
   "source": [
    "lr_df=pd.DataFrame({'y_test':y_test,'y_pred':y_pred})\n",
    "lr_df.head()"
   ]
  },
  {
   "cell_type": "code",
   "execution_count": 237,
   "metadata": {},
   "outputs": [
    {
     "data": {
      "text/plain": [
       "y_test            y_pred          \n",
       "Bigdata           Bigdata             447\n",
       "                  Blockchain            4\n",
       "                  Cyber Security        3\n",
       "                  FinTech             183\n",
       "                  Microservices         2\n",
       "                                     ... \n",
       "credit reporting  Neobanks              5\n",
       "                  Reg Tech              1\n",
       "                  Robo Advising         1\n",
       "                  Stock Trading         1\n",
       "                  credit reporting    269\n",
       "Name: y_pred, Length: 89, dtype: int64"
      ]
     },
     "execution_count": 237,
     "metadata": {},
     "output_type": "execute_result"
    }
   ],
   "source": [
    "lr_df.groupby(['y_test','y_pred'])['y_pred'].count()"
   ]
  },
  {
   "cell_type": "markdown",
   "metadata": {},
   "source": [
    "#### Confusion Matrix"
   ]
  },
  {
   "cell_type": "code",
   "execution_count": 241,
   "metadata": {},
   "outputs": [
    {
     "data": {
      "text/plain": [
       "array([[ 447,    4,    3,    0,  183,    2,    1,   25,    1,    1,    5],\n",
       "       [   5,  128,   12,    0,  248,    1,    2,    2,    0,    1,    2],\n",
       "       [   8,   10,  402,    6,  338,    9,    3,    5,    0,    0,   13],\n",
       "       [   5,    0,   30,    6,   57,    1,    0,    0,    0,    0,    8],\n",
       "       [  24,   17,   67,    0, 2403,   13,   19,    9,   19,   12,   35],\n",
       "       [   6,    3,    8,    0,  172,  103,    1,    0,    0,    1,    0],\n",
       "       [   3,    1,    2,    0,  245,    1,   47,    0,    0,    0,    6],\n",
       "       [  31,    3,   13,    0,  160,    0,    2,  445,    1,    0,    4],\n",
       "       [   3,    0,    9,    0,  149,    0,    3,    0,   42,    0,    2],\n",
       "       [   5,    0,    4,    0,  132,    1,    0,    1,    0,   99,    1],\n",
       "       [  14,    8,   20,    1,  190,    0,    5,    1,    1,    1,  269]],\n",
       "      dtype=int64)"
      ]
     },
     "execution_count": 241,
     "metadata": {},
     "output_type": "execute_result"
    }
   ],
   "source": [
    "from sklearn.metrics import confusion_matrix\n",
    "confusion_matrix(y_test,y_pred)"
   ]
  },
  {
   "cell_type": "markdown",
   "metadata": {},
   "source": [
    "#### Classification Report"
   ]
  },
  {
   "cell_type": "code",
   "execution_count": 242,
   "metadata": {},
   "outputs": [
    {
     "name": "stdout",
     "output_type": "stream",
     "text": [
      "                  precision    recall  f1-score   support\n",
      "\n",
      "         Bigdata       0.81      0.67      0.73       672\n",
      "      Blockchain       0.74      0.32      0.45       401\n",
      "  Cyber Security       0.71      0.51      0.59       794\n",
      "   Data Security       0.46      0.06      0.10       107\n",
      "         FinTech       0.56      0.92      0.70      2618\n",
      "   Microservices       0.79      0.35      0.48       294\n",
      "        Neobanks       0.57      0.15      0.24       305\n",
      "        Reg Tech       0.91      0.68      0.78       659\n",
      "   Robo Advising       0.66      0.20      0.31       208\n",
      "   Stock Trading       0.86      0.41      0.55       243\n",
      "credit reporting       0.78      0.53      0.63       510\n",
      "\n",
      "        accuracy                           0.64      6811\n",
      "       macro avg       0.71      0.43      0.51      6811\n",
      "    weighted avg       0.69      0.64      0.62      6811\n",
      "\n"
     ]
    }
   ],
   "source": [
    "from sklearn.metrics import classification_report\n",
    "print(classification_report (y_test,y_pred))"
   ]
  },
  {
   "cell_type": "markdown",
   "metadata": {},
   "source": [
    "#### accuracy_score"
   ]
  },
  {
   "cell_type": "code",
   "execution_count": 304,
   "metadata": {},
   "outputs": [
    {
     "name": "stdout",
     "output_type": "stream",
     "text": [
      "0.3503156658346792\n"
     ]
    }
   ],
   "source": [
    "print(accuracy_score (y_test,y_pred))"
   ]
  },
  {
   "cell_type": "markdown",
   "metadata": {},
   "source": [
    "### 3. Random  Forest  Classifier  "
   ]
  },
  {
   "cell_type": "code",
   "execution_count": 244,
   "metadata": {},
   "outputs": [],
   "source": [
    "from sklearn.ensemble import RandomForestClassifier"
   ]
  },
  {
   "cell_type": "code",
   "execution_count": 245,
   "metadata": {},
   "outputs": [],
   "source": [
    "rfc = RandomForestClassifier(n_estimators=10,max_depth=5,\n",
    "                                max_features='sqrt',min_samples_split=20)"
   ]
  },
  {
   "cell_type": "code",
   "execution_count": 246,
   "metadata": {},
   "outputs": [
    {
     "data": {
      "text/plain": [
       "RandomForestClassifier(max_depth=5, max_features='sqrt', min_samples_split=20,\n",
       "                       n_estimators=10)"
      ]
     },
     "execution_count": 246,
     "metadata": {},
     "output_type": "execute_result"
    }
   ],
   "source": [
    "rfc.fit(X_train,y_train)"
   ]
  },
  {
   "cell_type": "code",
   "execution_count": 247,
   "metadata": {},
   "outputs": [
    {
     "data": {
      "text/plain": [
       "0.3761485210824418"
      ]
     },
     "execution_count": 247,
     "metadata": {},
     "output_type": "execute_result"
    }
   ],
   "source": [
    "rfc.score(X_train,y_train)"
   ]
  },
  {
   "cell_type": "code",
   "execution_count": 248,
   "metadata": {},
   "outputs": [
    {
     "data": {
      "text/plain": [
       "RandomForestClassifier(max_depth=5, max_features='sqrt', min_samples_split=20,\n",
       "                       n_estimators=10)"
      ]
     },
     "execution_count": 248,
     "metadata": {},
     "output_type": "execute_result"
    }
   ],
   "source": [
    "rfc.fit(X_test,y_test)"
   ]
  },
  {
   "cell_type": "code",
   "execution_count": 249,
   "metadata": {},
   "outputs": [
    {
     "data": {
      "text/plain": [
       "0.3887828512700044"
      ]
     },
     "execution_count": 249,
     "metadata": {},
     "output_type": "execute_result"
    }
   ],
   "source": [
    "rfc.score(X_test,y_test)"
   ]
  },
  {
   "cell_type": "code",
   "execution_count": 250,
   "metadata": {},
   "outputs": [
    {
     "data": {
      "text/plain": [
       "array(['FinTech', 'FinTech', 'FinTech', ..., 'FinTech', 'FinTech',\n",
       "       'FinTech'], dtype=object)"
      ]
     },
     "execution_count": 250,
     "metadata": {},
     "output_type": "execute_result"
    }
   ],
   "source": [
    "y_pred_rfc = rfc.predict(X_test)\n",
    "y_pred_rfc"
   ]
  },
  {
   "cell_type": "code",
   "execution_count": 251,
   "metadata": {},
   "outputs": [
    {
     "data": {
      "text/plain": [
       "array([[   0,    0,    0,    0,  671,    0,    0,    1,    0,    0,    0],\n",
       "       [   0,    0,    0,    0,  401,    0,    0,    0,    0,    0,    0],\n",
       "       [   0,    0,    1,    0,  793,    0,    0,    0,    0,    0,    0],\n",
       "       [   0,    0,    0,    0,  107,    0,    0,    0,    0,    0,    0],\n",
       "       [   0,    0,    0,    0, 2617,    0,    0,    0,    0,    0,    1],\n",
       "       [   0,    0,    0,    0,  294,    0,    0,    0,    0,    0,    0],\n",
       "       [   0,    0,    0,    0,  305,    0,    0,    0,    0,    0,    0],\n",
       "       [   0,    0,    0,    0,  641,    0,    0,   18,    0,    0,    0],\n",
       "       [   0,    0,    0,    0,  208,    0,    0,    0,    0,    0,    0],\n",
       "       [   0,    0,    0,    0,  243,    0,    0,    0,    0,    0,    0],\n",
       "       [   0,    0,    0,    0,  498,    0,    0,    0,    0,    0,   12]],\n",
       "      dtype=int64)"
      ]
     },
     "execution_count": 251,
     "metadata": {},
     "output_type": "execute_result"
    }
   ],
   "source": [
    "confusion_matrix(y_test,y_pred_rfc)"
   ]
  },
  {
   "cell_type": "code",
   "execution_count": 272,
   "metadata": {},
   "outputs": [
    {
     "name": "stderr",
     "output_type": "stream",
     "text": [
      "C:\\Users\\Avinash\\anaconda3\\lib\\site-packages\\sklearn\\metrics\\_classification.py:1221: UndefinedMetricWarning: Precision and F-score are ill-defined and being set to 0.0 in labels with no predicted samples. Use `zero_division` parameter to control this behavior.\n",
      "  _warn_prf(average, modifier, msg_start, len(result))\n"
     ]
    },
    {
     "name": "stdout",
     "output_type": "stream",
     "text": [
      "                  precision    recall  f1-score   support\n",
      "\n",
      "         Bigdata       0.00      0.00      0.00       672\n",
      "      Blockchain       0.00      0.00      0.00       401\n",
      "  Cyber Security       1.00      0.00      0.00       794\n",
      "   Data Security       0.00      0.00      0.00       107\n",
      "         FinTech       0.39      1.00      0.56      2618\n",
      "   Microservices       0.00      0.00      0.00       294\n",
      "        Neobanks       0.00      0.00      0.00       305\n",
      "        Reg Tech       0.95      0.03      0.05       659\n",
      "   Robo Advising       0.00      0.00      0.00       208\n",
      "   Stock Trading       0.00      0.00      0.00       243\n",
      "credit reporting       0.92      0.02      0.05       510\n",
      "\n",
      "        accuracy                           0.39      6811\n",
      "       macro avg       0.30      0.10      0.06      6811\n",
      "    weighted avg       0.43      0.39      0.22      6811\n",
      "\n"
     ]
    }
   ],
   "source": [
    "print(classification_report(y_test,y_pred_rfc))"
   ]
  },
  {
   "cell_type": "code",
   "execution_count": 274,
   "metadata": {},
   "outputs": [
    {
     "name": "stdout",
     "output_type": "stream",
     "text": [
      "Accyracy 0.3887828512700044\n"
     ]
    }
   ],
   "source": [
    "from sklearn.metrics import accuracy_score\n",
    "print('Accyracy',accuracy_score(y_test,y_pred_rfc))"
   ]
  },
  {
   "cell_type": "markdown",
   "metadata": {},
   "source": [
    "### 4. Decision Tree"
   ]
  },
  {
   "cell_type": "code",
   "execution_count": 257,
   "metadata": {},
   "outputs": [
    {
     "data": {
      "text/plain": [
       "DecisionTreeClassifier()"
      ]
     },
     "execution_count": 257,
     "metadata": {},
     "output_type": "execute_result"
    }
   ],
   "source": [
    "from sklearn.tree import DecisionTreeClassifier\n",
    "dt = DecisionTreeClassifier()\n",
    "dt.fit(X_train,y_train)"
   ]
  },
  {
   "cell_type": "code",
   "execution_count": 258,
   "metadata": {},
   "outputs": [
    {
     "name": "stdout",
     "output_type": "stream",
     "text": [
      "0.9928256765261171\n",
      "0.5463221259726913\n"
     ]
    }
   ],
   "source": [
    "print(dt.score(X_train,y_train))\n",
    "print(dt.score(X_test,y_test))"
   ]
  },
  {
   "cell_type": "code",
   "execution_count": 259,
   "metadata": {},
   "outputs": [
    {
     "data": {
      "text/plain": [
       "array(['FinTech', 'FinTech', 'FinTech', ..., 'FinTech', 'FinTech',\n",
       "       'FinTech'], dtype=object)"
      ]
     },
     "execution_count": 259,
     "metadata": {},
     "output_type": "execute_result"
    }
   ],
   "source": [
    "y_pred_dt = dt.predict(X_test)\n",
    "y_pred_dt"
   ]
  },
  {
   "cell_type": "code",
   "execution_count": null,
   "metadata": {},
   "outputs": [],
   "source": []
  },
  {
   "cell_type": "code",
   "execution_count": 260,
   "metadata": {},
   "outputs": [
    {
     "data": {
      "text/plain": [
       "array([[ 459,    6,   14,    6,  113,    6,    3,   36,    4,    3,   22],\n",
       "       [  24,  138,   30,    2,  154,   12,    5,   12,    5,   10,    9],\n",
       "       [  37,   38,  333,   17,  274,   14,   10,   18,   20,    5,   28],\n",
       "       [  15,    2,   27,   15,   32,    3,    2,    4,    0,    1,    6],\n",
       "       [ 181,  107,  178,   20, 1723,   59,   71,   50,   80,   48,  101],\n",
       "       [  19,   22,   13,    1,  118,   96,    5,    9,    5,    2,    4],\n",
       "       [  12,    9,   17,    3,  154,    4,   80,    5,   10,    3,    8],\n",
       "       [  80,    7,   29,    1,   88,    2,    5,  438,    4,    2,    3],\n",
       "       [  15,    7,    8,    0,   89,    5,    8,    4,   60,    5,    7],\n",
       "       [  20,    3,    6,    0,   88,    5,    4,    3,    2,  107,    5],\n",
       "       [  33,   14,   20,    3,  115,    8,   20,   10,    6,    9,  272]],\n",
       "      dtype=int64)"
      ]
     },
     "execution_count": 260,
     "metadata": {},
     "output_type": "execute_result"
    }
   ],
   "source": [
    "confusion_matrix(y_test,y_pred_dt)"
   ]
  },
  {
   "cell_type": "code",
   "execution_count": 261,
   "metadata": {},
   "outputs": [
    {
     "name": "stdout",
     "output_type": "stream",
     "text": [
      "                  precision    recall  f1-score   support\n",
      "\n",
      "         Bigdata       0.51      0.68      0.59       672\n",
      "      Blockchain       0.39      0.34      0.37       401\n",
      "  Cyber Security       0.49      0.42      0.45       794\n",
      "   Data Security       0.22      0.14      0.17       107\n",
      "         FinTech       0.58      0.66      0.62      2618\n",
      "   Microservices       0.45      0.33      0.38       294\n",
      "        Neobanks       0.38      0.26      0.31       305\n",
      "        Reg Tech       0.74      0.66      0.70       659\n",
      "   Robo Advising       0.31      0.29      0.30       208\n",
      "   Stock Trading       0.55      0.44      0.49       243\n",
      "credit reporting       0.58      0.53      0.56       510\n",
      "\n",
      "        accuracy                           0.55      6811\n",
      "       macro avg       0.47      0.43      0.45      6811\n",
      "    weighted avg       0.54      0.55      0.54      6811\n",
      "\n"
     ]
    }
   ],
   "source": [
    "print(classification_report(y_test,y_pred_dt))"
   ]
  },
  {
   "cell_type": "code",
   "execution_count": 262,
   "metadata": {},
   "outputs": [
    {
     "name": "stdout",
     "output_type": "stream",
     "text": [
      "0.5463221259726913\n"
     ]
    }
   ],
   "source": [
    "print(accuracy_score(y_test,y_pred_dt))"
   ]
  },
  {
   "cell_type": "markdown",
   "metadata": {},
   "source": [
    "#### 5. K- Nearest Neighbor "
   ]
  },
  {
   "cell_type": "code",
   "execution_count": 343,
   "metadata": {},
   "outputs": [],
   "source": [
    "from sklearn.neighbors import KNeighborsClassifier"
   ]
  },
  {
   "cell_type": "code",
   "execution_count": 344,
   "metadata": {},
   "outputs": [
    {
     "data": {
      "text/plain": [
       "KNeighborsClassifier(n_neighbors=21)"
      ]
     },
     "execution_count": 344,
     "metadata": {},
     "output_type": "execute_result"
    }
   ],
   "source": [
    "knn = KNeighborsClassifier(n_neighbors=21)\n",
    "knn.fit(X_train,y_train)\n",
    "#knn.fit(x_train,y_train)\n"
   ]
  },
  {
   "cell_type": "code",
   "execution_count": 345,
   "metadata": {},
   "outputs": [
    {
     "data": {
      "text/plain": [
       "0.6269981120201384"
      ]
     },
     "execution_count": 345,
     "metadata": {},
     "output_type": "execute_result"
    }
   ],
   "source": [
    "knn.score(X_train,y_train)"
   ]
  },
  {
   "cell_type": "code",
   "execution_count": 346,
   "metadata": {},
   "outputs": [
    {
     "name": "stdout",
     "output_type": "stream",
     "text": [
      "0.6269981120201384\n",
      "0.5809719571281751\n"
     ]
    }
   ],
   "source": [
    "print(knn.score(X_train,y_train))\n",
    "print(knn.score(X_test,y_test))"
   ]
  },
  {
   "cell_type": "code",
   "execution_count": 353,
   "metadata": {},
   "outputs": [
    {
     "data": {
      "text/plain": [
       "array(['FinTech', 'FinTech', 'FinTech', ..., 'Neobanks', 'FinTech',\n",
       "       'FinTech'], dtype=object)"
      ]
     },
     "execution_count": 353,
     "metadata": {},
     "output_type": "execute_result"
    }
   ],
   "source": [
    "y_pred_knn = knn.predict(X_test)  # numpy\n",
    "y_pred_knn"
   ]
  },
  {
   "cell_type": "code",
   "execution_count": 356,
   "metadata": {},
   "outputs": [
    {
     "data": {
      "text/html": [
       "<div>\n",
       "<style scoped>\n",
       "    .dataframe tbody tr th:only-of-type {\n",
       "        vertical-align: middle;\n",
       "    }\n",
       "\n",
       "    .dataframe tbody tr th {\n",
       "        vertical-align: top;\n",
       "    }\n",
       "\n",
       "    .dataframe thead th {\n",
       "        text-align: right;\n",
       "    }\n",
       "</style>\n",
       "<table border=\"1\" class=\"dataframe\">\n",
       "  <thead>\n",
       "    <tr style=\"text-align: right;\">\n",
       "      <th></th>\n",
       "      <th>y_test</th>\n",
       "      <th>y_pred_nb2</th>\n",
       "    </tr>\n",
       "  </thead>\n",
       "  <tbody>\n",
       "    <tr>\n",
       "      <th>15821</th>\n",
       "      <td>FinTech</td>\n",
       "      <td>FinTech</td>\n",
       "    </tr>\n",
       "    <tr>\n",
       "      <th>12958</th>\n",
       "      <td>FinTech</td>\n",
       "      <td>FinTech</td>\n",
       "    </tr>\n",
       "    <tr>\n",
       "      <th>7843</th>\n",
       "      <td>Cyber Security</td>\n",
       "      <td>FinTech</td>\n",
       "    </tr>\n",
       "    <tr>\n",
       "      <th>15327</th>\n",
       "      <td>FinTech</td>\n",
       "      <td>FinTech</td>\n",
       "    </tr>\n",
       "    <tr>\n",
       "      <th>11160</th>\n",
       "      <td>FinTech</td>\n",
       "      <td>Cyber Security</td>\n",
       "    </tr>\n",
       "  </tbody>\n",
       "</table>\n",
       "</div>"
      ],
      "text/plain": [
       "               y_test      y_pred_nb2\n",
       "15821         FinTech         FinTech\n",
       "12958         FinTech         FinTech\n",
       "7843   Cyber Security         FinTech\n",
       "15327         FinTech         FinTech\n",
       "11160         FinTech  Cyber Security"
      ]
     },
     "execution_count": 356,
     "metadata": {},
     "output_type": "execute_result"
    }
   ],
   "source": [
    "nb2_df=pd.DataFrame({'y_test':y_test,'y_pred_nb2':y_pred_nb2})\n",
    "nb2_df.head()"
   ]
  },
  {
   "cell_type": "code",
   "execution_count": 358,
   "metadata": {},
   "outputs": [
    {
     "data": {
      "text/html": [
       "<div>\n",
       "<style scoped>\n",
       "    .dataframe tbody tr th:only-of-type {\n",
       "        vertical-align: middle;\n",
       "    }\n",
       "\n",
       "    .dataframe tbody tr th {\n",
       "        vertical-align: top;\n",
       "    }\n",
       "\n",
       "    .dataframe thead th {\n",
       "        text-align: right;\n",
       "    }\n",
       "</style>\n",
       "<table border=\"1\" class=\"dataframe\">\n",
       "  <thead>\n",
       "    <tr style=\"text-align: right;\">\n",
       "      <th></th>\n",
       "      <th>y_test</th>\n",
       "      <th>y_pred_nb2</th>\n",
       "    </tr>\n",
       "  </thead>\n",
       "  <tbody>\n",
       "    <tr>\n",
       "      <th>15821</th>\n",
       "      <td>FinTech</td>\n",
       "      <td>FinTech</td>\n",
       "    </tr>\n",
       "    <tr>\n",
       "      <th>12958</th>\n",
       "      <td>FinTech</td>\n",
       "      <td>FinTech</td>\n",
       "    </tr>\n",
       "    <tr>\n",
       "      <th>7843</th>\n",
       "      <td>Cyber Security</td>\n",
       "      <td>FinTech</td>\n",
       "    </tr>\n",
       "    <tr>\n",
       "      <th>15327</th>\n",
       "      <td>FinTech</td>\n",
       "      <td>FinTech</td>\n",
       "    </tr>\n",
       "    <tr>\n",
       "      <th>11160</th>\n",
       "      <td>FinTech</td>\n",
       "      <td>Cyber Security</td>\n",
       "    </tr>\n",
       "  </tbody>\n",
       "</table>\n",
       "</div>"
      ],
      "text/plain": [
       "               y_test      y_pred_nb2\n",
       "15821         FinTech         FinTech\n",
       "12958         FinTech         FinTech\n",
       "7843   Cyber Security         FinTech\n",
       "15327         FinTech         FinTech\n",
       "11160         FinTech  Cyber Security"
      ]
     },
     "execution_count": 358,
     "metadata": {},
     "output_type": "execute_result"
    }
   ],
   "source": [
    "nb2_df.groupby(['y_test','y_pred_nb2'])['y_pred_nb2'].count()\n",
    "nb2_df.head()"
   ]
  },
  {
   "cell_type": "code",
   "execution_count": null,
   "metadata": {},
   "outputs": [],
   "source": [
    "from sklearn.metrics import confusion_matrix,classification_report,accuracy_score"
   ]
  },
  {
   "cell_type": "code",
   "execution_count": 363,
   "metadata": {},
   "outputs": [
    {
     "name": "stdout",
     "output_type": "stream",
     "text": [
      "[[ 289    1    3    0  360    0    0   19    0    0    0]\n",
      " [   0   20    1    0  380    0    0    0    0    0    0]\n",
      " [   0    0  172    0  620    0    0    0    0    0    2]\n",
      " [   0    0   12    0   95    0    0    0    0    0    0]\n",
      " [   3    0    9    0 2600    0    0    2    0    0    4]\n",
      " [   0    0    2    0  287    5    0    0    0    0    0]\n",
      " [   0    0    1    0  303    0    0    0    0    0    1]\n",
      " [  12    1    9    0  268    0    0  369    0    0    0]\n",
      " [   0    0    2    0  206    0    0    0    0    0    0]\n",
      " [   1    0    1    0  231    0    0    0    0   10    0]\n",
      " [   0    0   10    0  471    0    0    0    0    0   29]]\n"
     ]
    }
   ],
   "source": [
    "print(confusion_matrix (y_test,y_pred_nb2))"
   ]
  },
  {
   "cell_type": "code",
   "execution_count": 364,
   "metadata": {},
   "outputs": [
    {
     "name": "stderr",
     "output_type": "stream",
     "text": [
      "C:\\Users\\Avinash\\anaconda3\\lib\\site-packages\\sklearn\\metrics\\_classification.py:1221: UndefinedMetricWarning: Precision and F-score are ill-defined and being set to 0.0 in labels with no predicted samples. Use `zero_division` parameter to control this behavior.\n",
      "  _warn_prf(average, modifier, msg_start, len(result))\n"
     ]
    },
    {
     "name": "stdout",
     "output_type": "stream",
     "text": [
      "                  precision    recall  f1-score   support\n",
      "\n",
      "         Bigdata       0.95      0.43      0.59       672\n",
      "      Blockchain       0.91      0.05      0.09       401\n",
      "  Cyber Security       0.77      0.22      0.34       794\n",
      "   Data Security       0.00      0.00      0.00       107\n",
      "         FinTech       0.45      0.99      0.62      2618\n",
      "   Microservices       1.00      0.02      0.03       294\n",
      "        Neobanks       0.00      0.00      0.00       305\n",
      "        Reg Tech       0.95      0.56      0.70       659\n",
      "   Robo Advising       0.00      0.00      0.00       208\n",
      "   Stock Trading       1.00      0.04      0.08       243\n",
      "credit reporting       0.81      0.06      0.11       510\n",
      "\n",
      "        accuracy                           0.51      6811\n",
      "       macro avg       0.62      0.21      0.23      6811\n",
      "    weighted avg       0.64      0.51      0.42      6811\n",
      "\n"
     ]
    }
   ],
   "source": [
    "print(classification_report (y_test,y_pred_nb2))"
   ]
  },
  {
   "cell_type": "code",
   "execution_count": 369,
   "metadata": {},
   "outputs": [
    {
     "data": {
      "text/plain": [
       "0.5129936866833065"
      ]
     },
     "execution_count": 369,
     "metadata": {},
     "output_type": "execute_result"
    }
   ],
   "source": [
    "metrics.accuracy_score(y_test,y_pred_nb2)"
   ]
  }
 ],
 "metadata": {
  "kernelspec": {
   "display_name": "Python 3",
   "language": "python",
   "name": "python3"
  },
  "language_info": {
   "codemirror_mode": {
    "name": "ipython",
    "version": 3
   },
   "file_extension": ".py",
   "mimetype": "text/x-python",
   "name": "python",
   "nbconvert_exporter": "python",
   "pygments_lexer": "ipython3",
   "version": "3.8.5"
  }
 },
 "nbformat": 4,
 "nbformat_minor": 4
}
