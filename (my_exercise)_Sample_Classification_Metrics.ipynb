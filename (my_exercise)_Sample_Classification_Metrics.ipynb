{
  "nbformat": 4,
  "nbformat_minor": 0,
  "metadata": {
    "kernelspec": {
      "display_name": "Python 3",
      "language": "python",
      "name": "python3"
    },
    "language_info": {
      "codemirror_mode": {
        "name": "ipython",
        "version": 3
      },
      "file_extension": ".py",
      "mimetype": "text/x-python",
      "name": "python",
      "nbconvert_exporter": "python",
      "pygments_lexer": "ipython3",
      "version": "3.8.5"
    },
    "colab": {
      "name": "(my exercise) Sample - Classification Metrics.ipynb",
      "provenance": []
    }
  },
  "cells": [
    {
      "cell_type": "code",
      "metadata": {
        "id": "IxFdew-o4dOc"
      },
      "source": [
        "import numpy as np\n",
        "import matplotlib.pyplot as plt\n",
        "import math"
      ],
      "execution_count": null,
      "outputs": []
    },
    {
      "cell_type": "code",
      "metadata": {
        "id": "uR66-l3A4dPC"
      },
      "source": [
        "# https://towardsdatascience.com/confusion-matrix-for-your-multi-class-machine-learning-model-ff9aa3bf7826\n",
        "# https://www.analyticsvidhya.com/blog/2020/04/confusion-matrix-machine-learning/\n",
        "# https://datascience.stackexchange.com/questions/40067/confusion-matrix-three-classes-python/40068\n",
        "# https://towardsdatascience.com/multi-class-classification-extracting-performance-metrics-from-the-confusion-matrix-b379b427a872 "
      ],
      "execution_count": null,
      "outputs": []
    },
    {
      "cell_type": "code",
      "metadata": {
        "id": "jp_FAZ4E4dPF"
      },
      "source": [
        "# Precision = tp/(tp + fp)\n",
        "# Recall = sensitivity = tp/ (tp +fn)\n",
        "# Accuracy = (tp + tn) / (tp + fp + tn + fn)\n",
        "# f1 - score = 2*p*r / (p+r)"
      ],
      "execution_count": null,
      "outputs": []
    },
    {
      "cell_type": "code",
      "metadata": {
        "id": "RsFjnPow4dPH"
      },
      "source": [
        "from sklearn.metrics import classification_report as cr \n",
        "from sklearn.metrics import confusion_matrix"
      ],
      "execution_count": null,
      "outputs": []
    },
    {
      "cell_type": "code",
      "metadata": {
        "id": "qJnoLy4W4dPK"
      },
      "source": [
        "y_true = [1,0, 1, 1, 0, 1, 0, 1, 1, 1, 0,1,0,1,1]\n",
        "y_pred = [1,0, 1, 0, 1, 0, 1, 0, 0, 1, 0,1,0,1,1]"
      ],
      "execution_count": null,
      "outputs": []
    },
    {
      "cell_type": "code",
      "metadata": {
        "id": "WQbbJW2x4dPM",
        "outputId": "36a8181a-f4fc-4677-bd4b-b863ac607392"
      },
      "source": [
        "cm = confusion_matrix(y_true,y_pred)\n",
        "cm"
      ],
      "execution_count": null,
      "outputs": [
        {
          "output_type": "execute_result",
          "data": {
            "text/plain": [
              "array([[3, 2],\n",
              "       [4, 6]], dtype=int64)"
            ]
          },
          "metadata": {
            "tags": []
          },
          "execution_count": 24
        }
      ]
    },
    {
      "cell_type": "code",
      "metadata": {
        "id": "Kn-rXL134dPR",
        "outputId": "467a60a1-2ddf-49f1-e521-6543e08d7b1f"
      },
      "source": [
        "cm = confusion_matrix(y_true,y_pred)\n",
        "print(cm)"
      ],
      "execution_count": null,
      "outputs": [
        {
          "output_type": "stream",
          "text": [
            "[[3 2]\n",
            " [4 6]]\n"
          ],
          "name": "stdout"
        }
      ]
    },
    {
      "cell_type": "code",
      "metadata": {
        "id": "LFAxoc1W4dPT",
        "outputId": "ebfef4a3-fd9e-4d3c-d967-b80cd462537f"
      },
      "source": [
        "print(cr(y_true,y_pred))"
      ],
      "execution_count": null,
      "outputs": [
        {
          "output_type": "stream",
          "text": [
            "              precision    recall  f1-score   support\n",
            "\n",
            "           0       0.43      0.60      0.50         5\n",
            "           1       0.75      0.60      0.67        10\n",
            "\n",
            "    accuracy                           0.60        15\n",
            "   macro avg       0.59      0.60      0.58        15\n",
            "weighted avg       0.64      0.60      0.61        15\n",
            "\n"
          ],
          "name": "stdout"
        }
      ]
    },
    {
      "cell_type": "code",
      "metadata": {
        "id": "v8Avjs2E4dPW"
      },
      "source": [
        "from sklearn.metrics import accuracy_score\n",
        "from sklearn.metrics import f1_score\n",
        "from sklearn.metrics import recall_score\n",
        "from sklearn.metrics import precision_score"
      ],
      "execution_count": null,
      "outputs": []
    },
    {
      "cell_type": "code",
      "metadata": {
        "id": "qaCwQlwp4dPY",
        "outputId": "55c043b0-8ab5-4093-a5f1-7972b4999219"
      },
      "source": [
        "precision_score(y_true,y_pred)"
      ],
      "execution_count": null,
      "outputs": [
        {
          "output_type": "execute_result",
          "data": {
            "text/plain": [
              "0.75"
            ]
          },
          "metadata": {
            "tags": []
          },
          "execution_count": 28
        }
      ]
    },
    {
      "cell_type": "code",
      "metadata": {
        "id": "ZRewfhYa4dPb",
        "outputId": "2877dee0-41ec-4aa7-e5e2-e8c2847c966a"
      },
      "source": [
        "recall_score(y_true,y_pred)"
      ],
      "execution_count": null,
      "outputs": [
        {
          "output_type": "execute_result",
          "data": {
            "text/plain": [
              "0.6"
            ]
          },
          "metadata": {
            "tags": []
          },
          "execution_count": 29
        }
      ]
    },
    {
      "cell_type": "code",
      "metadata": {
        "id": "G3pdnz2K4dPd",
        "outputId": "d741fdcc-9605-4f40-cc4d-bd6e4a4796a1"
      },
      "source": [
        "f1_score(y_true,y_pred)"
      ],
      "execution_count": null,
      "outputs": [
        {
          "output_type": "execute_result",
          "data": {
            "text/plain": [
              "0.6666666666666665"
            ]
          },
          "metadata": {
            "tags": []
          },
          "execution_count": 30
        }
      ]
    },
    {
      "cell_type": "code",
      "metadata": {
        "id": "xR6p9mB64dPf",
        "outputId": "bab74ef2-6328-46ee-c2ae-c4c18f76f5dd"
      },
      "source": [
        "accuracy_score(y_true,y_pred)"
      ],
      "execution_count": null,
      "outputs": [
        {
          "output_type": "execute_result",
          "data": {
            "text/plain": [
              "0.6"
            ]
          },
          "metadata": {
            "tags": []
          },
          "execution_count": 31
        }
      ]
    },
    {
      "cell_type": "code",
      "metadata": {
        "id": "7bp51TlR4dPh",
        "outputId": "62142521-b649-41a2-bd54-dc3b707eb46e"
      },
      "source": [
        "# Acuuracy = (tp + tn) / (tp + fp + tn + fn)\n",
        "(3+6)/(3+6+4+2)"
      ],
      "execution_count": null,
      "outputs": [
        {
          "output_type": "execute_result",
          "data": {
            "text/plain": [
              "0.6"
            ]
          },
          "metadata": {
            "tags": []
          },
          "execution_count": 32
        }
      ]
    },
    {
      "cell_type": "code",
      "metadata": {
        "id": "N8yYhGEV4dPi",
        "outputId": "aa3821e7-7ef7-44d6-a498-f58f4a8e09a9"
      },
      "source": [
        "plot_confusion_matrix(cm,classes =[0,1])"
      ],
      "execution_count": null,
      "outputs": [
        {
          "output_type": "stream",
          "text": [
            "Confusion matrix, without normalization\n",
            "[[3 2]\n",
            " [4 6]]\n"
          ],
          "name": "stdout"
        },
        {
          "output_type": "display_data",
          "data": {
            "image/png": "[encoded data removed]",
            "text/plain": [
              "<Figure size 432x288 with 2 Axes>"
            ]
          },
          "metadata": {
            "tags": [],
            "needs_background": "light"
          }
        }
      ]
    },
    {
      "cell_type": "code",
      "metadata": {
        "id": "Hi5n7XoR4dPk",
        "outputId": "1ee2386d-69b2-481c-bb16-fd16cc20ae8b"
      },
      "source": [
        "cm = confusion_matrix(y_true,y_pred,labels=[1,0])\n",
        "plot_confusion_matrix(cm,classes=[1,0])"
      ],
      "execution_count": null,
      "outputs": [
        {
          "output_type": "stream",
          "text": [
            "Confusion matrix, without normalization\n",
            "[[6 4]\n",
            " [2 3]]\n"
          ],
          "name": "stdout"
        },
        {
          "output_type": "display_data",
          "data": {
            "image/png": "[encoded data removed]",
            "text/plain": [
              "<Figure size 432x288 with 2 Axes>"
            ]
          },
          "metadata": {
            "tags": [],
            "needs_background": "light"
          }
        }
      ]
    },
    {
      "cell_type": "code",
      "metadata": {
        "id": "aK8de00E4dPn",
        "outputId": "3905f754-8114-437e-bf18-181f1a663809"
      },
      "source": [
        "cm=confusion_matrix(y_true,y_pred,labels=[0,1,2,3])\n",
        "plot_confusion_matrix(cm,classes=[0,1,2,3])"
      ],
      "execution_count": null,
      "outputs": [
        {
          "output_type": "stream",
          "text": [
            "Confusion matrix, without normalization\n",
            "[[3 2 0 0]\n",
            " [4 6 0 0]\n",
            " [0 0 0 0]\n",
            " [0 0 0 0]]\n"
          ],
          "name": "stdout"
        },
        {
          "output_type": "display_data",
          "data": {
            "image/png": "[encoded data removed]",
            "text/plain": [
              "<Figure size 432x288 with 2 Axes>"
            ]
          },
          "metadata": {
            "tags": [],
            "needs_background": "light"
          }
        }
      ]
    },
    {
      "cell_type": "code",
      "metadata": {
        "id": "UHSOES_M4dPq",
        "outputId": "c5e883a1-6e7e-40ba-9b46-0458cbec6004"
      },
      "source": [
        "cm = confusion_matrix(y_true,y_pred,labels=[1,0,2,3])\n",
        "np.set_printoptions(precision=2)\n",
        "\n",
        "plt.figure()\n",
        "plot_confusion_matrix(cm,classes=[0,1,2,3], title = 'confusion Matirx')"
      ],
      "execution_count": null,
      "outputs": [
        {
          "output_type": "stream",
          "text": [
            "Confusion matrix, without normalization\n",
            "[[6 4 0 0]\n",
            " [2 3 0 0]\n",
            " [0 0 0 0]\n",
            " [0 0 0 0]]\n"
          ],
          "name": "stdout"
        },
        {
          "output_type": "display_data",
          "data": {
            "image/png": "[encoded data removed]",
            "text/plain": [
              "<Figure size 432x288 with 2 Axes>"
            ]
          },
          "metadata": {
            "tags": [],
            "needs_background": "light"
          }
        }
      ]
    },
    {
      "cell_type": "markdown",
      "metadata": {
        "id": "-ACnL2D84dPs"
      },
      "source": [
        "## Manually"
      ]
    },
    {
      "cell_type": "code",
      "metadata": {
        "id": "2EMXoUqm4dPu"
      },
      "source": [
        "# Precision = tp / (tp + fp) -pre of class 0 = TP of class 0/total no. of class 0 or object\n",
        "# Recall = Sensitivity = tp / (tp + fn)\n",
        "# F1 - Score = 2*pre*rec / (pre+rec)   ----- like # a,b = 2*a*b / (a+b)\n",
        "# Acuracy = (tp + tn) / (tp + fp + tn + fn)\n",
        "# Support = no. of 0 in true class and no. of 1 in true class\n",
        "# macro avg = Pre of 0 + Pre of 1 / 2 and rec of 0 + rec of 1 /2 \n",
        "# weighted avg of pre = (TP of class 0 + TP of class 1)/(total number of class 0 + total number of class 1)\n",
        "\n",
        "# https://datascience.stackexchange.com/questions/65839/macro-average-and-weighted-average-meaning-in-classification-report"
      ],
      "execution_count": null,
      "outputs": []
    },
    {
      "cell_type": "code",
      "metadata": {
        "id": "8XgRbvkJ4dPw"
      },
      "source": [
        "y_true = [1,0, 1, 1, 0, 1, 0, 1, 1, 1, 0,1,0,1,1]\n",
        "y_pred = [1,0, 1, 0, 1, 0, 1, 0, 0, 1, 0,1,0,1,1]"
      ],
      "execution_count": null,
      "outputs": []
    },
    {
      "cell_type": "code",
      "metadata": {
        "id": "l5brlYkb4dPx",
        "outputId": "654aefce-29fa-401f-e49e-32347673b162"
      },
      "source": [
        "print(cm)"
      ],
      "execution_count": null,
      "outputs": [
        {
          "output_type": "stream",
          "text": [
            "[[6 4 0 0]\n",
            " [2 3 0 0]\n",
            " [0 0 0 0]\n",
            " [0 0 0 0]]\n"
          ],
          "name": "stdout"
        }
      ]
    },
    {
      "cell_type": "code",
      "metadata": {
        "id": "UT34UJ9R4dPy",
        "outputId": "d38a903c-a7d5-4994-950e-f1f54bce2eaa"
      },
      "source": [
        "# 0   (predicted value)\n",
        "pr0 = 3 / (3 + 4)\n",
        "print('Precision_0 =',pr0)\n",
        "rec0 = 3 / (3+2)\n",
        "print ('Recall or Sentivity _0 =',rec0)\n",
        "f1score0 = (2*pr0*rec0) / (pr0 + rec0)\n",
        "print('F1 Score 0 = ', f1score0)\n",
        "accuracy = (3 + 6) / (3+2+4+6)\n",
        "print ('accuracy_0 =',accuracy)"
      ],
      "execution_count": null,
      "outputs": [
        {
          "output_type": "stream",
          "text": [
            "Precision_0 = 0.42857142857142855\n",
            "Recall or Sentivity _0 = 0.6\n",
            "F1 Score 0 =  0.5\n",
            "accuracy_0 = 0.6\n"
          ],
          "name": "stdout"
        }
      ]
    },
    {
      "cell_type": "code",
      "metadata": {
        "id": "pQ0CiQ0I4dP0",
        "outputId": "a7ac9ec2-b499-4fb9-b4d4-fa14ffa749b2"
      },
      "source": [
        "# 1                (remembering =  actuallly - tn(6) in 0 that is now - tp(6))\n",
        "pr1 = 6 / (6+2)\n",
        "print('Precision_1', pr1)\n",
        "rec1 = 6 / (6+4)\n",
        "print('recall = sentivity =',rec1)\n",
        "f1score1 = (2*pr1*rec1) / (pr1 + rec1)\n",
        "print('f1 score 1 =',f1score1)"
      ],
      "execution_count": null,
      "outputs": [
        {
          "output_type": "stream",
          "text": [
            "Precision_1 0.75\n",
            "recall = sentivity = 0.6\n",
            "f1 score 1 = 0.6666666666666665\n"
          ],
          "name": "stdout"
        }
      ]
    },
    {
      "cell_type": "code",
      "metadata": {
        "id": "NXoCVyHM4dP2",
        "outputId": "28a5003a-1d5d-4321-de91-c5245a40e305"
      },
      "source": [
        "print(cr(y_true,y_pred))"
      ],
      "execution_count": null,
      "outputs": [
        {
          "output_type": "stream",
          "text": [
            "              precision    recall  f1-score   support\n",
            "\n",
            "           0       0.43      0.60      0.50         5\n",
            "           1       0.75      0.60      0.67        10\n",
            "\n",
            "    accuracy                           0.60        15\n",
            "   macro avg       0.59      0.60      0.58        15\n",
            "weighted avg       0.64      0.60      0.61        15\n",
            "\n"
          ],
          "name": "stdout"
        }
      ]
    },
    {
      "cell_type": "code",
      "metadata": {
        "id": "0rP46XB44dP3",
        "outputId": "4a176584-fdb5-41ee-c4a0-041dd78b05f6"
      },
      "source": [
        "macro_avg_precision = (0.43 + 0.75) / 2\n",
        "macro_avg_precision"
      ],
      "execution_count": null,
      "outputs": [
        {
          "output_type": "execute_result",
          "data": {
            "text/plain": [
              "0.59"
            ]
          },
          "metadata": {
            "tags": []
          },
          "execution_count": 43
        }
      ]
    },
    {
      "cell_type": "code",
      "metadata": {
        "id": "_83VEthp4dP4",
        "outputId": "8ed08b1e-50bb-4349-caec-ae6283d7e760"
      },
      "source": [
        "macro_avg_recall = (0.60 + 0.60) / 2\n",
        "macro_avg_recall"
      ],
      "execution_count": null,
      "outputs": [
        {
          "output_type": "execute_result",
          "data": {
            "text/plain": [
              "0.6"
            ]
          },
          "metadata": {
            "tags": []
          },
          "execution_count": 44
        }
      ]
    },
    {
      "cell_type": "code",
      "metadata": {
        "id": "KnMvSKL44dP6",
        "outputId": "40957407-2cd4-43cc-cce5-9fb1b441f05a"
      },
      "source": [
        "mac_avg_f1 = (0.50 + 0.67) / 2\n",
        "mac_avg_f1 "
      ],
      "execution_count": null,
      "outputs": [
        {
          "output_type": "execute_result",
          "data": {
            "text/plain": [
              "0.585"
            ]
          },
          "metadata": {
            "tags": []
          },
          "execution_count": 45
        }
      ]
    },
    {
      "cell_type": "code",
      "metadata": {
        "id": "MgeiMf7a4dP8",
        "outputId": "cbc57090-897c-418d-82bf-8547098007bb"
      },
      "source": [
        "wt_avg_pr = (5*0.43 + 10*0.75) / 15\n",
        "wt_avg_pr"
      ],
      "execution_count": null,
      "outputs": [
        {
          "output_type": "execute_result",
          "data": {
            "text/plain": [
              "0.6433333333333333"
            ]
          },
          "metadata": {
            "tags": []
          },
          "execution_count": 46
        }
      ]
    },
    {
      "cell_type": "code",
      "metadata": {
        "id": "u9Nq97HE4dP9",
        "outputId": "be3252ec-0491-455b-e8f2-d447ff7da8a8"
      },
      "source": [
        "wt_avg_re = (5*0.60 + 10*0.60) / 15\n",
        "wt_avg_re"
      ],
      "execution_count": null,
      "outputs": [
        {
          "output_type": "execute_result",
          "data": {
            "text/plain": [
              "0.6"
            ]
          },
          "metadata": {
            "tags": []
          },
          "execution_count": 47
        }
      ]
    },
    {
      "cell_type": "code",
      "metadata": {
        "id": "_myVaFvH4dP_",
        "outputId": "b74f90c5-14d9-46ab-8c18-9c736ee98fe8"
      },
      "source": [
        "wt_avg_f1 = (5*0.50 + 10*0.67) / 15\n",
        "wt_avg_f1"
      ],
      "execution_count": null,
      "outputs": [
        {
          "output_type": "execute_result",
          "data": {
            "text/plain": [
              "0.6133333333333333"
            ]
          },
          "metadata": {
            "tags": []
          },
          "execution_count": 48
        }
      ]
    },
    {
      "cell_type": "code",
      "metadata": {
        "id": "BNT5GEGD4dQA"
      },
      "source": [
        ""
      ],
      "execution_count": null,
      "outputs": []
    },
    {
      "cell_type": "markdown",
      "metadata": {
        "id": "Zoiv2gQA4dQB"
      },
      "source": [
        "### Ex-2  Multiple Matrix "
      ]
    },
    {
      "cell_type": "code",
      "metadata": {
        "id": "nFPu-kSo4dQC"
      },
      "source": [
        "# https://towardsdatascience.com/confusion-matrix-for-your-multi-class-machine-learning-model-ff9aa3bf7826"
      ],
      "execution_count": null,
      "outputs": []
    },
    {
      "cell_type": "code",
      "metadata": {
        "id": "WTXh9P7_4dQD"
      },
      "source": [
        "from sklearn.metrics import classification_report as cr"
      ],
      "execution_count": null,
      "outputs": []
    },
    {
      "cell_type": "code",
      "metadata": {
        "id": "IWYK0YDu4dQE"
      },
      "source": [
        "from sklearn.metrics import confusion_matrix"
      ],
      "execution_count": null,
      "outputs": []
    },
    {
      "cell_type": "code",
      "metadata": {
        "id": "J7z8tKbJ4dQF",
        "outputId": "024c1c69-5fe4-4677-bd5a-b58bc95ab6f8"
      },
      "source": [
        "actual = [1,1,2,0,0,2,0,1,0,1,1,2,0,1,1,2,2]\n",
        "predict =[0,2,2,0,1,0,0,1,0,0,1,2,2,2,2,2,1]\n",
        "print(len(actual),len(predict))"
      ],
      "execution_count": null,
      "outputs": [
        {
          "output_type": "stream",
          "text": [
            "17 17\n"
          ],
          "name": "stdout"
        }
      ]
    },
    {
      "cell_type": "code",
      "metadata": {
        "id": "vXD1E-Nr4dQH",
        "outputId": "605a4aab-8573-4787-e179-aa260b64032a"
      },
      "source": [
        "print(confusion_matrix(actual,predict))"
      ],
      "execution_count": null,
      "outputs": [
        {
          "output_type": "stream",
          "text": [
            "[[3 1 1]\n",
            " [2 2 3]\n",
            " [1 1 3]]\n"
          ],
          "name": "stdout"
        }
      ]
    },
    {
      "cell_type": "code",
      "metadata": {
        "id": "WzE5Sjzo4dQI",
        "outputId": "b1c7f537-568e-4e63-88a4-68df5f93196e"
      },
      "source": [
        "print(cr(actual,predict))   # report will come out on the basis of actual "
      ],
      "execution_count": null,
      "outputs": [
        {
          "output_type": "stream",
          "text": [
            "              precision    recall  f1-score   support\n",
            "\n",
            "           0       0.50      0.60      0.55         5\n",
            "           1       0.50      0.29      0.36         7\n",
            "           2       0.43      0.60      0.50         5\n",
            "\n",
            "    accuracy                           0.47        17\n",
            "   macro avg       0.48      0.50      0.47        17\n",
            "weighted avg       0.48      0.47      0.46        17\n",
            "\n"
          ],
          "name": "stdout"
        }
      ]
    },
    {
      "cell_type": "code",
      "metadata": {
        "id": "sbG0lQFF4dQJ",
        "outputId": "c6a9c6d6-3fd2-4589-9de0-318fc74d9563"
      },
      "source": [
        "print(confusion_matrix(actual,predict))"
      ],
      "execution_count": null,
      "outputs": [
        {
          "output_type": "stream",
          "text": [
            "[[3 1 1]\n",
            " [2 2 3]\n",
            " [1 1 3]]\n"
          ],
          "name": "stdout"
        }
      ]
    },
    {
      "cell_type": "code",
      "metadata": {
        "id": "cDbXbSg74dQL",
        "outputId": "578e81ec-06a1-4332-9510-dcac250467a6"
      },
      "source": [
        "# precision \n",
        "#pr0 = tp / (tp + fp + fp)\n",
        "pr0 = 3 / (3+2+1)\n",
        "print('pr0 -', pr0)\n",
        "pr1 = 2/(1+2+1) \n",
        "print('pr1 -',pr1)\n",
        "pr2 = 3/(1+3+3)\n",
        "print('pr2 -', pr2)"
      ],
      "execution_count": null,
      "outputs": [
        {
          "output_type": "stream",
          "text": [
            "pr0 - 0.5\n",
            "pr1 - 0.5\n",
            "pr2 - 0.42857142857142855\n"
          ],
          "name": "stdout"
        }
      ]
    },
    {
      "cell_type": "code",
      "metadata": {
        "id": "aW8fGzot4dQM",
        "outputId": "bdc9fbc3-315c-4f75-82ce-d2c295723f0e"
      },
      "source": [
        "# Recall  or sensitivity or True Positive rate \n",
        "# rec= tp/(tp+fn+fn)\n",
        "rec0 = 3/(3+1+1)\n",
        "print('rec0 -',rec0)\n",
        "rec1= 2/(2+2+3)\n",
        "print('rec1 -',rec1)\n",
        "rec2 = 3/(3+1+1)\n",
        "print('rec2 -',rec2)"
      ],
      "execution_count": null,
      "outputs": [
        {
          "output_type": "stream",
          "text": [
            "rec0 - 0.6\n",
            "rec1 - 0.2857142857142857\n",
            "rec2 - 0.6\n"
          ],
          "name": "stdout"
        }
      ]
    },
    {
      "cell_type": "code",
      "metadata": {
        "id": "DwAx00Ge4dQO",
        "outputId": "a669c663-5c81-4412-b1b1-f310181107f1"
      },
      "source": [
        "# f1 - score = 2*precision*recall/(precision+recall)\n",
        "f1_score0=2*pr0*rec0/(pr0+rec0)\n",
        "print(f1_score0)\n",
        "f1_score1=2*pr1*rec1/(pr1+rec1)\n",
        "print(f1_score1)\n",
        "f1_score2=2*pr2*rec2/(pr2+rec2)\n",
        "print(f1_score2)"
      ],
      "execution_count": null,
      "outputs": [
        {
          "output_type": "stream",
          "text": [
            "0.5454545454545454\n",
            "0.36363636363636365\n",
            "0.5\n"
          ],
          "name": "stdout"
        }
      ]
    },
    {
      "cell_type": "code",
      "metadata": {
        "id": "ZkleF5mL4dQQ"
      },
      "source": [
        "# support  in actual data have o is 5 time or 1 is 7 or 2 is 5 "
      ],
      "execution_count": null,
      "outputs": []
    },
    {
      "cell_type": "code",
      "metadata": {
        "id": "YyFH_Pj04dQR",
        "outputId": "d7b9f0a3-14ca-441a-a718-49a6f80cc83a"
      },
      "source": [
        "#Accuracy=tp+tn+tn/(tp,tn,tn,fn,fn,fn,fp,fp,fp)   all is 0,1,2 's tp is tn for each others\n",
        "Accuracy = (3+2+3) /(3+2+3+1+1+2+1+1+3)\n",
        "print(Accuracy)"
      ],
      "execution_count": null,
      "outputs": [
        {
          "output_type": "stream",
          "text": [
            "0.47058823529411764\n"
          ],
          "name": "stdout"
        }
      ]
    },
    {
      "cell_type": "code",
      "metadata": {
        "id": "OU5ze-VT4dQS",
        "outputId": "e2169efb-33b0-48e9-b01a-4300c3bd7e26"
      },
      "source": [
        "macro_avg_precision =(pr0+pr1+pr2)/3\n",
        "print('macro_avg_precision -',macro_avg_precision)\n",
        "macro_avg_recall = (rec0+rec1+rec2)/3\n",
        "print('macro_avg_recall -',macro_avg_recall)\n",
        "macro_f1_score = (f1_score0+f1_score1+f1_score2)/3\n",
        "print ('macro_avg_f1-score -',macro_f1_score)"
      ],
      "execution_count": null,
      "outputs": [
        {
          "output_type": "stream",
          "text": [
            "macro_avg_precision - 0.4761904761904762\n",
            "macro_avg_recall - 0.49523809523809526\n",
            "macro_avg_f1-score - 0.4696969696969697\n"
          ],
          "name": "stdout"
        }
      ]
    },
    {
      "cell_type": "code",
      "metadata": {
        "id": "neCUPPYa4dQU",
        "outputId": "31910fe4-0399-491a-faa0-95dd1c70d17d"
      },
      "source": [
        "weight_avg_precision = ((5*pr0)+(7*pr1)+(5*pr2))/17\n",
        "print('weight_avg precision- ',weight_avg_precision)\n",
        "\n",
        "weight_avg_recall = ((5*rec0)+(7*rec1)+(5*rec2))/17\n",
        "print('weight_avg recall- ',weight_avg_recall)\n",
        "\n",
        "weight_avg_f1_score = ((5*f1_score0)+(7*f1_score1)+(5*f1_score2))/17\n",
        "print('weight_avg f1-score- ',weight_avg_f1_score)"
      ],
      "execution_count": null,
      "outputs": [
        {
          "output_type": "stream",
          "text": [
            "weight_avg precision-  0.4789915966386554\n",
            "weight_avg recall-  0.47058823529411764\n",
            "weight_avg f1-score-  0.4572192513368984\n"
          ],
          "name": "stdout"
        }
      ]
    },
    {
      "cell_type": "code",
      "metadata": {
        "id": "VgPLHGOG4dQW",
        "outputId": "24c94d73-65f4-4083-8159-5272ba64e4e0"
      },
      "source": [
        "print(confusion_matrix(actual,predict))"
      ],
      "execution_count": null,
      "outputs": [
        {
          "output_type": "stream",
          "text": [
            "[[3 1 1]\n",
            " [2 2 3]\n",
            " [1 1 3]]\n"
          ],
          "name": "stdout"
        }
      ]
    },
    {
      "cell_type": "code",
      "metadata": {
        "id": "UA7BCFiA4dQX",
        "outputId": "59eb1bf7-f948-4290-8b14-78c85c02f3c5"
      },
      "source": [
        "print(cr(actual,predict))"
      ],
      "execution_count": null,
      "outputs": [
        {
          "output_type": "stream",
          "text": [
            "              precision    recall  f1-score   support\n",
            "\n",
            "           0       0.50      0.60      0.55         5\n",
            "           1       0.50      0.29      0.36         7\n",
            "           2       0.43      0.60      0.50         5\n",
            "\n",
            "    accuracy                           0.47        17\n",
            "   macro avg       0.48      0.50      0.47        17\n",
            "weighted avg       0.48      0.47      0.46        17\n",
            "\n"
          ],
          "name": "stdout"
        }
      ]
    },
    {
      "cell_type": "markdown",
      "metadata": {
        "id": "jGkmKAW24dQZ"
      },
      "source": [
        "### Plot the multiple confusion matrix"
      ]
    },
    {
      "cell_type": "code",
      "metadata": {
        "id": "kZZUFdQh4dQa",
        "outputId": "316d7201-28a8-4e95-f47c-9fa13913c65a"
      },
      "source": [
        "cm = confusion_matrix(actual,predict,labels=[0,1,2])\n",
        "np.set_printoptions(precision=2)\n",
        "\n",
        "plt.figure()\n",
        "plot_confusion_matrix(cm,classes=[0,1,2], title = 'confusion Matirx')"
      ],
      "execution_count": null,
      "outputs": [
        {
          "output_type": "stream",
          "text": [
            "Confusion matrix, without normalization\n",
            "[[3 1 1]\n",
            " [2 2 3]\n",
            " [1 1 3]]\n"
          ],
          "name": "stdout"
        },
        {
          "output_type": "display_data",
          "data": {
            "image/png": "[encoded data removed]",
            "text/plain": [
              "<Figure size 432x288 with 2 Axes>"
            ]
          },
          "metadata": {
            "tags": [],
            "needs_background": "light"
          }
        }
      ]
    },
    {
      "cell_type": "code",
      "metadata": {
        "id": "Q4aXX0nb4dQb",
        "outputId": "a5acacc0-dc83-461a-8582-747a5d3f7612"
      },
      "source": [
        "cm = confusion_matrix (actual,predict,labels=[1,0,2])\n",
        "plot_confusion_matrix(cm,classes=[1,0,2])"
      ],
      "execution_count": null,
      "outputs": [
        {
          "output_type": "stream",
          "text": [
            "Confusion matrix, without normalization\n",
            "[[2 2 3]\n",
            " [1 3 1]\n",
            " [1 1 3]]\n"
          ],
          "name": "stdout"
        },
        {
          "output_type": "display_data",
          "data": {
            "image/png": "[encoded data removed]",
            "text/plain": [
              "<Figure size 432x288 with 2 Axes>"
            ]
          },
          "metadata": {
            "tags": [],
            "needs_background": "light"
          }
        }
      ]
    },
    {
      "cell_type": "code",
      "metadata": {
        "id": "em5I2XbU4dQe",
        "outputId": "8e255a02-ea27-4228-f4ce-dc80a4e57826"
      },
      "source": [
        "cm = confusion_matrix (actual,predict, labels = [2,0,1])\n",
        "plot_confusion_matrix(cm,classes=[2,0,1])"
      ],
      "execution_count": null,
      "outputs": [
        {
          "output_type": "stream",
          "text": [
            "Confusion matrix, without normalization\n",
            "[[3 1 1]\n",
            " [1 3 1]\n",
            " [3 2 2]]\n"
          ],
          "name": "stdout"
        },
        {
          "output_type": "display_data",
          "data": {
            "image/png": "[encoded data removed]",
            "text/plain": [
              "<Figure size 432x288 with 2 Axes>"
            ]
          },
          "metadata": {
            "tags": [],
            "needs_background": "light"
          }
        }
      ]
    },
    {
      "cell_type": "code",
      "metadata": {
        "id": "vvPtY6nx4dQf"
      },
      "source": [
        ""
      ],
      "execution_count": null,
      "outputs": []
    },
    {
      "cell_type": "markdown",
      "metadata": {
        "id": "qPzcJfLn4dQg"
      },
      "source": [
        "## Plot the sigmoid function - using numpy"
      ]
    },
    {
      "cell_type": "code",
      "metadata": {
        "id": "QiOlISMe4dQh"
      },
      "source": [
        "# https://gist.github.com/Will-777/ad278c345639d24efb9d4cd275addbd2\n",
        "# https://www.geeksforgeeks.org/implement-sigmoid-function-using-numpy/"
      ],
      "execution_count": null,
      "outputs": []
    },
    {
      "cell_type": "code",
      "metadata": {
        "id": "oaqszf0y4dQi"
      },
      "source": [
        "import numpy as np\n",
        "import math \n",
        "import matplotlib.pyplot as plt"
      ],
      "execution_count": null,
      "outputs": []
    },
    {
      "cell_type": "code",
      "metadata": {
        "id": "HwdV7mjQ4dQj",
        "outputId": "51a05a4f-24da-42be-d5ae-39c5326a5142"
      },
      "source": [
        "# d = ax+b\n",
        "x = np.arange(-10,10)\n",
        "print(x)"
      ],
      "execution_count": null,
      "outputs": [
        {
          "output_type": "stream",
          "text": [
            "[-10  -9  -8  -7  -6  -5  -4  -3  -2  -1   0   1   2   3   4   5   6   7\n",
            "   8   9]\n"
          ],
          "name": "stdout"
        }
      ]
    },
    {
      "cell_type": "code",
      "metadata": {
        "id": "pPYKPb3y4dQm",
        "outputId": "41dc87ed-863d-4a75-910c-c155aed7c296"
      },
      "source": [
        "d = np.linspace(-10,10,20)\n",
        "print(d)"
      ],
      "execution_count": null,
      "outputs": [
        {
          "output_type": "stream",
          "text": [
            "[-10.    -8.95  -7.89  -6.84  -5.79  -4.74  -3.68  -2.63  -1.58  -0.53\n",
            "   0.53   1.58   2.63   3.68   4.74   5.79   6.84   7.89   8.95  10.  ]\n"
          ],
          "name": "stdout"
        }
      ]
    },
    {
      "cell_type": "code",
      "metadata": {
        "id": "49lWUD0_4dQn",
        "outputId": "2fe81f7c-fd4b-4d50-fa58-e69f6e087414"
      },
      "source": [
        "print(len(x))\n",
        "print(len(d))"
      ],
      "execution_count": null,
      "outputs": [
        {
          "output_type": "stream",
          "text": [
            "20\n",
            "20\n"
          ],
          "name": "stdout"
        }
      ]
    },
    {
      "cell_type": "code",
      "metadata": {
        "id": "2T_KVMi14dQp",
        "outputId": "9dc7c931-48cf-40ff-e531-79b653c9d784"
      },
      "source": [
        "z = 1/(1+np.exp(-d))\n",
        "print(z)"
      ],
      "execution_count": null,
      "outputs": [
        {
          "output_type": "stream",
          "text": [
            "[4.54e-05 1.30e-04 3.73e-04 1.07e-03 3.05e-03 8.69e-03 2.45e-02 6.71e-02\n",
            " 1.71e-01 3.71e-01 6.29e-01 8.29e-01 9.33e-01 9.75e-01 9.91e-01 9.97e-01\n",
            " 9.99e-01 1.00e+00 1.00e+00 1.00e+00]\n"
          ],
          "name": "stdout"
        }
      ]
    },
    {
      "cell_type": "code",
      "metadata": {
        "id": "sKvTEcym4dQr",
        "outputId": "834b0496-1c31-4370-8aa1-41f5e5a5f3b8"
      },
      "source": [
        "plt.plot(x,z,marker='*')\n",
        "plt.xlabel('x')\n",
        "plt.ylabel('sigmund(x)')\n",
        "plt.show()"
      ],
      "execution_count": null,
      "outputs": [
        {
          "output_type": "display_data",
          "data": {
            "image/png": "[encoded data removed]",
            "text/plain": [
              "<Figure size 432x288 with 1 Axes>"
            ]
          },
          "metadata": {
            "tags": [],
            "needs_background": "light"
          }
        }
      ]
    },
    {
      "cell_type": "markdown",
      "metadata": {
        "id": "lsjVtfXd4dQu"
      },
      "source": [
        "### Understanding exercises -  \n"
      ]
    },
    {
      "cell_type": "code",
      "metadata": {
        "id": "fXKQTj6Y4dQv",
        "outputId": "ca9661ab-633c-4baf-ca4e-556d5c8446e4"
      },
      "source": [
        "from sklearn.metrics import confusion_matrix\n",
        "\n",
        "y_true = [0,1,2,0,0,2]\n",
        "y_pred = [1,1,2,1,1,2]\n",
        "\n",
        "classes = [0,1,2]\n",
        "\n",
        "confusion_matrix(y_true, y_pred, labels=[0,1,2])"
      ],
      "execution_count": null,
      "outputs": [
        {
          "output_type": "execute_result",
          "data": {
            "text/plain": [
              "array([[0, 3, 0],\n",
              "       [0, 1, 0],\n",
              "       [0, 0, 2]], dtype=int64)"
            ]
          },
          "metadata": {
            "tags": []
          },
          "execution_count": 73
        }
      ]
    },
    {
      "cell_type": "markdown",
      "metadata": {
        "id": "Dm34uYrm4dQw"
      },
      "source": [
        "# here we can put any tabel and get result on plot with normlization or without normalization"
      ]
    },
    {
      "cell_type": "code",
      "metadata": {
        "id": "nSSbHgtX4dQx",
        "outputId": "96a403a9-c324-4b4f-9567-ace373af91b5"
      },
      "source": [
        "import numpy as np\n",
        "import  matplotlib.pyplot as plt\n",
        "def plot_confusion_matrix(cm, classes,\n",
        "                          normalize=False,\n",
        "                          title='Confusion matrix',\n",
        "                          cmap=plt.cm.Blues):\n",
        "    \"\"\"\n",
        "    This function prints and plots the confusion matrix.\n",
        "    Normalization can be applied by setting `normalize=True`.\n",
        "    \"\"\"\n",
        "    import itertools\n",
        "    if normalize:\n",
        "        cm = cm.astype('float') / cm.sum(axis=1)[:, np.newaxis]\n",
        "        print(\"Normalized confusion matrix\")\n",
        "    else:\n",
        "        print('Confusion matrix, without normalization')\n",
        "\n",
        "    print(cm)\n",
        "\n",
        "    plt.imshow(cm, interpolation='nearest', cmap=cmap)\n",
        "    plt.title(title)\n",
        "    plt.colorbar()\n",
        "    tick_marks = np.arange(len(classes))\n",
        "    plt.xticks(tick_marks, classes, rotation=45)\n",
        "    plt.yticks(tick_marks, classes)\n",
        "\n",
        "    fmt = '.2f' if normalize else 'd'\n",
        "    thresh = cm.max() / 2.\n",
        "    for i, j in itertools.product(range(cm.shape[0]), range(cm.shape[1])):\n",
        "        plt.text(j, i, format(cm[i, j], fmt),\n",
        "                 horizontalalignment=\"center\",\n",
        "                 color=\"white\" if cm[i, j] > thresh else \"black\")\n",
        "\n",
        "    plt.ylabel('True label')\n",
        "    plt.xlabel('Predicted label')\n",
        "    plt.tight_layout()\n",
        "#like this:\n",
        "\n",
        "cnf_matrix = confusion_matrix(y_true, y_pred,labels=[2,0,1])\n",
        "np.set_printoptions(precision=2)\n",
        "\n",
        "# Plot non-normalized confusion matrix\n",
        "plt.figure()\n",
        "plot_confusion_matrix(cnf_matrix, classes=[2,0,1],\n",
        "                      title='Confusion matrix, without normalization')"
      ],
      "execution_count": null,
      "outputs": [
        {
          "output_type": "stream",
          "text": [
            "Confusion matrix, without normalization\n",
            "[[2 0 0]\n",
            " [0 0 3]\n",
            " [0 0 1]]\n"
          ],
          "name": "stdout"
        },
        {
          "output_type": "display_data",
          "data": {
            "image/png": "[encoded data removed]",
            "text/plain": [
              "<Figure size 432x288 with 2 Axes>"
            ]
          },
          "metadata": {
            "tags": [],
            "needs_background": "light"
          }
        }
      ]
    },
    {
      "cell_type": "code",
      "metadata": {
        "id": "cpj_wwbx4dQz"
      },
      "source": [
        ""
      ],
      "execution_count": null,
      "outputs": []
    },
    {
      "cell_type": "code",
      "metadata": {
        "id": "YBXITjZm4dQ0",
        "outputId": "94f76810-2078-48f6-ebef-a6480c1438f5"
      },
      "source": [
        "from sklearn.metrics import confusion_matrix\n",
        "\n",
        "y_true = ['Cat', 'Dog', 'Rabbit', 'Cat', 'Cat', 'Rabbit']\n",
        "y_pred = ['Dog', 'Dog', 'Rabbit', 'Dog', 'Dog', 'Rabbit']\n",
        "\n",
        "classes=['Cat', 'Dog', 'Rabbit']\n",
        "\n",
        "confusion_matrix(y_true, y_pred, labels=['Cat', 'Dog', 'Rabbit'])"
      ],
      "execution_count": null,
      "outputs": [
        {
          "output_type": "execute_result",
          "data": {
            "text/plain": [
              "array([[0, 3, 0],\n",
              "       [0, 1, 0],\n",
              "       [0, 0, 2]], dtype=int64)"
            ]
          },
          "metadata": {
            "tags": []
          },
          "execution_count": 75
        }
      ]
    },
    {
      "cell_type": "code",
      "metadata": {
        "id": "piQ94BXD4dQ2"
      },
      "source": [
        ""
      ],
      "execution_count": null,
      "outputs": []
    },
    {
      "cell_type": "code",
      "metadata": {
        "id": "RoOsUBug4dQ2",
        "outputId": "72f82f3f-0db9-4b2f-cc10-ac418bc220f9"
      },
      "source": [
        "import numpy as np\n",
        "import  matplotlib.pyplot as plt\n",
        "def plot_confusion_matrix(cm, classes,\n",
        "                          normalize=False,\n",
        "                          title='Confusion matrix',\n",
        "                          cmap=plt.cm.Blues):\n",
        "    \"\"\"\n",
        "    This function prints and plots the confusion matrix.\n",
        "    Normalization can be applied by setting `normalize=True`.\n",
        "    \"\"\"\n",
        "    import itertools\n",
        "    if normalize:\n",
        "        cm = cm.astype('float') / cm.sum(axis=1)[:, np.newaxis]\n",
        "        print(\"Normalized confusion matrix\")\n",
        "    else:\n",
        "        print('Confusion matrix, without normalization')\n",
        "\n",
        "    print(cm)\n",
        "\n",
        "    plt.imshow(cm, interpolation='nearest', cmap=cmap)\n",
        "    plt.title(title)\n",
        "    plt.colorbar()\n",
        "    tick_marks = np.arange(len(classes))\n",
        "    plt.xticks(tick_marks, classes, rotation=45)\n",
        "    plt.yticks(tick_marks, classes)\n",
        "\n",
        "    fmt = '.2f' if normalize else 'd'\n",
        "    thresh = cm.max() / 2.\n",
        "    for i, j in itertools.product(range(cm.shape[0]), range(cm.shape[1])):\n",
        "        plt.text(j, i, format(cm[i, j], fmt),\n",
        "                 horizontalalignment=\"center\",\n",
        "                 color=\"white\" if cm[i, j] > thresh else \"black\")\n",
        "\n",
        "    plt.ylabel('True label')\n",
        "    plt.xlabel('Predicted label')\n",
        "    plt.tight_layout()\n",
        "#like this:\n",
        "\n",
        "cnf_matrix = confusion_matrix(y_true, y_pred,labels=['Cat', 'Dog', 'Rabbit'])\n",
        "np.set_printoptions(precision=2)\n",
        "\n",
        "# Plot non-normalized confusion matrix\n",
        "plt.figure()\n",
        "plot_confusion_matrix(cnf_matrix, classes=['Cat', 'Dog', 'Rabbit'],\n",
        "                      title='Confusion matrix, without normalization')"
      ],
      "execution_count": null,
      "outputs": [
        {
          "output_type": "stream",
          "text": [
            "Confusion matrix, without normalization\n",
            "[[0 3 0]\n",
            " [0 1 0]\n",
            " [0 0 2]]\n"
          ],
          "name": "stdout"
        },
        {
          "output_type": "display_data",
          "data": {
            "image/png": "[encoded data removed]",
            "text/plain": [
              "<Figure size 432x288 with 2 Axes>"
            ]
          },
          "metadata": {
            "tags": [],
            "needs_background": "light"
          }
        }
      ]
    },
    {
      "cell_type": "code",
      "metadata": {
        "id": "8YXDN0rP4dQ5"
      },
      "source": [
        ""
      ],
      "execution_count": null,
      "outputs": []
    }
  ]
}