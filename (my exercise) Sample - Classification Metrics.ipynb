{
 "cells": [
  {
   "cell_type": "code",
   "execution_count": 1,
   "metadata": {},
   "outputs": [],
   "source": [
    "# https://towardsdatascience.com/confusion-matrix-for-your-multi-class-machine-learning-model-ff9aa3bf7826\n",
    "# https://www.analyticsvidhya.com/blog/2020/04/confusion-matrix-machine-learning/\n",
    "# https://datascience.stackexchange.com/questions/40067/confusion-matrix-three-classes-python/40068\n",
    "# https://towardsdatascience.com/multi-class-classification-extracting-performance-metrics-from-the-confusion-matrix-b379b427a872 "
   ]
  },
  {
   "cell_type": "code",
   "execution_count": 109,
   "metadata": {},
   "outputs": [],
   "source": [
    "# Precision = tp/(tp + fp)\n",
    "# Recall = sensitivity = tp/ (tp +fn)\n",
    "# Accuracy = (tp + tn) / (tp + fp + tn + fn)\n",
    "# f1 - score = 2*p*r / (p+r)"
   ]
  },
  {
   "cell_type": "code",
   "execution_count": 110,
   "metadata": {},
   "outputs": [],
   "source": [
    "from sklearn.metrics import classification_report as cr \n",
    "from sklearn.metrics import confusion_matrix"
   ]
  },
  {
   "cell_type": "code",
   "execution_count": 111,
   "metadata": {},
   "outputs": [],
   "source": [
    "y_true = [1,0, 1, 1, 0, 1, 0, 1, 1, 1, 0,1,0,1,1]\n",
    "y_pred = [1,0, 1, 0, 1, 0, 1, 0, 0, 1, 0,1,0,1,1]"
   ]
  },
  {
   "cell_type": "code",
   "execution_count": 112,
   "metadata": {},
   "outputs": [
    {
     "data": {
      "text/plain": [
       "array([[3, 2],\n",
       "       [4, 6]], dtype=int64)"
      ]
     },
     "execution_count": 112,
     "metadata": {},
     "output_type": "execute_result"
    }
   ],
   "source": [
    "cm = confusion_matrix(y_true,y_pred)\n",
    "cm"
   ]
  },
  {
   "cell_type": "code",
   "execution_count": 113,
   "metadata": {},
   "outputs": [
    {
     "name": "stdout",
     "output_type": "stream",
     "text": [
      "[[3 2]\n",
      " [4 6]]\n"
     ]
    }
   ],
   "source": [
    "cm = confusion_matrix(y_true,y_pred)\n",
    "print(cm)"
   ]
  },
  {
   "cell_type": "code",
   "execution_count": 114,
   "metadata": {},
   "outputs": [],
   "source": [
    "from sklearn.metrics import accuracy_score\n",
    "from sklearn.metrics import f1_score\n",
    "from sklearn.metrics import recall_score\n",
    "from sklearn.metrics import precision_score"
   ]
  },
  {
   "cell_type": "code",
   "execution_count": 115,
   "metadata": {},
   "outputs": [
    {
     "data": {
      "text/plain": [
       "0.75"
      ]
     },
     "execution_count": 115,
     "metadata": {},
     "output_type": "execute_result"
    }
   ],
   "source": [
    "precision_score(y_true,y_pred)"
   ]
  },
  {
   "cell_type": "code",
   "execution_count": 116,
   "metadata": {},
   "outputs": [
    {
     "data": {
      "text/plain": [
       "0.6"
      ]
     },
     "execution_count": 116,
     "metadata": {},
     "output_type": "execute_result"
    }
   ],
   "source": [
    "recall_score(y_true,y_pred)"
   ]
  },
  {
   "cell_type": "code",
   "execution_count": 117,
   "metadata": {},
   "outputs": [
    {
     "data": {
      "text/plain": [
       "0.6666666666666665"
      ]
     },
     "execution_count": 117,
     "metadata": {},
     "output_type": "execute_result"
    }
   ],
   "source": [
    "f1_score(y_true,y_pred)"
   ]
  },
  {
   "cell_type": "code",
   "execution_count": 118,
   "metadata": {},
   "outputs": [
    {
     "data": {
      "text/plain": [
       "0.6"
      ]
     },
     "execution_count": 118,
     "metadata": {},
     "output_type": "execute_result"
    }
   ],
   "source": [
    "accuracy_score(y_true,y_pred)"
   ]
  },
  {
   "cell_type": "code",
   "execution_count": 119,
   "metadata": {},
   "outputs": [
    {
     "data": {
      "text/plain": [
       "0.6"
      ]
     },
     "execution_count": 119,
     "metadata": {},
     "output_type": "execute_result"
    }
   ],
   "source": [
    "# Acuuracy = (tp + tn) / (tp + fp + tn + fn)\n",
    "(3+6)/(3+6+4+2)"
   ]
  },
  {
   "cell_type": "code",
   "execution_count": 10,
   "metadata": {},
   "outputs": [
    {
     "name": "stdout",
     "output_type": "stream",
     "text": [
      "              precision    recall  f1-score   support\n",
      "\n",
      "           0       0.43      0.60      0.50         5\n",
      "           1       0.75      0.60      0.67        10\n",
      "\n",
      "    accuracy                           0.60        15\n",
      "   macro avg       0.59      0.60      0.58        15\n",
      "weighted avg       0.64      0.60      0.61        15\n",
      "\n"
     ]
    }
   ],
   "source": [
    "print(cr(y_true,y_pred))"
   ]
  },
  {
   "cell_type": "code",
   "execution_count": null,
   "metadata": {},
   "outputs": [],
   "source": []
  },
  {
   "cell_type": "markdown",
   "metadata": {},
   "source": [
    "## Manually"
   ]
  },
  {
   "cell_type": "code",
   "execution_count": 11,
   "metadata": {},
   "outputs": [],
   "source": [
    "# Precision = tp / (tp + fp) -pre of class 0 = TP of class 0/total no. of class 0 or object\n",
    "# Recall = Sensitivity = tp / (tp + fn)\n",
    "# F1 - Score = 2*pre*rec / (pre+rec)   ----- like # a,b = 2*a*b / (a+b)\n",
    "# Acuracy = (tp + tn) / (tp + fp + tn + fn)\n",
    "# Support = no. of 0 in true class and no. of 1 in true class\n",
    "# macro avg = Pre of 0 + Pre of 1 / 2 and rec of 0 + rec of 1 /2 \n",
    "# weighted avg of pre = (TP of class 0 + TP of class 1)/(total number of class 0 + total number of class 1)\n",
    "\n",
    "# https://datascience.stackexchange.com/questions/65839/macro-average-and-weighted-average-meaning-in-classification-report"
   ]
  },
  {
   "cell_type": "code",
   "execution_count": 12,
   "metadata": {},
   "outputs": [],
   "source": [
    "y_true = [1,0, 1, 1, 0, 1, 0, 1, 1, 1, 0,1,0,1,1]\n",
    "y_pred = [1,0, 1, 0, 1, 0, 1, 0, 0, 1, 0,1,0,1,1]"
   ]
  },
  {
   "cell_type": "code",
   "execution_count": 13,
   "metadata": {},
   "outputs": [
    {
     "name": "stdout",
     "output_type": "stream",
     "text": [
      "[[3 2]\n",
      " [4 6]]\n"
     ]
    }
   ],
   "source": [
    "print(cm)"
   ]
  },
  {
   "cell_type": "code",
   "execution_count": 14,
   "metadata": {},
   "outputs": [
    {
     "name": "stdout",
     "output_type": "stream",
     "text": [
      "Precision_0 = 0.42857142857142855\n",
      "Recall or Sentivity _0 = 0.6\n",
      "F1 Score 0 =  0.5\n",
      "accuracy_0 = 0.6\n"
     ]
    }
   ],
   "source": [
    "# 0   (predicted value)\n",
    "pr0 = 3 / (3 + 4)\n",
    "print('Precision_0 =',pr0)\n",
    "rec0 = 3 / (3+2)\n",
    "print ('Recall or Sentivity _0 =',rec0)\n",
    "f1score0 = (2*pr0*rec0) / (pr0 + rec0)\n",
    "print('F1 Score 0 = ', f1score0)\n",
    "accuracy = (3 + 6) / (3+2+4+6)\n",
    "print ('accuracy_0 =',accuracy)"
   ]
  },
  {
   "cell_type": "code",
   "execution_count": 15,
   "metadata": {},
   "outputs": [
    {
     "name": "stdout",
     "output_type": "stream",
     "text": [
      "Precision_1 0.75\n",
      "recall = sentivity = 0.6\n",
      "f1 score 1 = 0.6666666666666665\n"
     ]
    }
   ],
   "source": [
    "# 1                (remembering =  actuallly - tn(6) in 0 that is now - tp(6))\n",
    "pr1 = 6 / (6+2)\n",
    "print('Precision_1', pr1)\n",
    "rec1 = 6 / (6+4)\n",
    "print('recall = sentivity =',rec1)\n",
    "f1score1 = (2*pr1*rec1) / (pr1 + rec1)\n",
    "print('f1 score 1 =',f1score1)"
   ]
  },
  {
   "cell_type": "code",
   "execution_count": 16,
   "metadata": {},
   "outputs": [
    {
     "name": "stdout",
     "output_type": "stream",
     "text": [
      "              precision    recall  f1-score   support\n",
      "\n",
      "           0       0.43      0.60      0.50         5\n",
      "           1       0.75      0.60      0.67        10\n",
      "\n",
      "    accuracy                           0.60        15\n",
      "   macro avg       0.59      0.60      0.58        15\n",
      "weighted avg       0.64      0.60      0.61        15\n",
      "\n"
     ]
    }
   ],
   "source": [
    "print(cr(y_true,y_pred))"
   ]
  },
  {
   "cell_type": "code",
   "execution_count": 17,
   "metadata": {},
   "outputs": [
    {
     "data": {
      "text/plain": [
       "0.59"
      ]
     },
     "execution_count": 17,
     "metadata": {},
     "output_type": "execute_result"
    }
   ],
   "source": [
    "macro_avg_precision = (0.43 + 0.75) / 2\n",
    "macro_avg_precision"
   ]
  },
  {
   "cell_type": "code",
   "execution_count": 18,
   "metadata": {},
   "outputs": [
    {
     "data": {
      "text/plain": [
       "0.6"
      ]
     },
     "execution_count": 18,
     "metadata": {},
     "output_type": "execute_result"
    }
   ],
   "source": [
    "macro_avg_recall = (0.60 + 0.60) / 2\n",
    "macro_avg_recall"
   ]
  },
  {
   "cell_type": "code",
   "execution_count": 19,
   "metadata": {},
   "outputs": [
    {
     "data": {
      "text/plain": [
       "0.585"
      ]
     },
     "execution_count": 19,
     "metadata": {},
     "output_type": "execute_result"
    }
   ],
   "source": [
    "mac_avg_f1 = (0.50 + 0.67) / 2\n",
    "mac_avg_f1 "
   ]
  },
  {
   "cell_type": "code",
   "execution_count": 20,
   "metadata": {},
   "outputs": [
    {
     "data": {
      "text/plain": [
       "0.6433333333333333"
      ]
     },
     "execution_count": 20,
     "metadata": {},
     "output_type": "execute_result"
    }
   ],
   "source": [
    "wt_avg_pr = (5*0.43 + 10*0.75) / 15\n",
    "wt_avg_pr"
   ]
  },
  {
   "cell_type": "code",
   "execution_count": 21,
   "metadata": {},
   "outputs": [
    {
     "data": {
      "text/plain": [
       "0.6"
      ]
     },
     "execution_count": 21,
     "metadata": {},
     "output_type": "execute_result"
    }
   ],
   "source": [
    "wt_avg_re = (5*0.60 + 10*0.60) / 15\n",
    "wt_avg_re"
   ]
  },
  {
   "cell_type": "code",
   "execution_count": 22,
   "metadata": {},
   "outputs": [
    {
     "data": {
      "text/plain": [
       "0.6133333333333333"
      ]
     },
     "execution_count": 22,
     "metadata": {},
     "output_type": "execute_result"
    }
   ],
   "source": [
    "wt_avg_f1 = (5*0.50 + 10*0.67) / 15\n",
    "wt_avg_f1"
   ]
  },
  {
   "cell_type": "code",
   "execution_count": null,
   "metadata": {},
   "outputs": [],
   "source": []
  },
  {
   "cell_type": "markdown",
   "metadata": {},
   "source": [
    "### Ex-2  Multiple Matrix "
   ]
  },
  {
   "cell_type": "code",
   "execution_count": 23,
   "metadata": {},
   "outputs": [],
   "source": [
    "# https://towardsdatascience.com/confusion-matrix-for-your-multi-class-machine-learning-model-ff9aa3bf7826"
   ]
  },
  {
   "cell_type": "code",
   "execution_count": 24,
   "metadata": {},
   "outputs": [],
   "source": [
    "from sklearn.metrics import classification_report as cr"
   ]
  },
  {
   "cell_type": "code",
   "execution_count": 25,
   "metadata": {},
   "outputs": [],
   "source": [
    "from sklearn.metrics import confusion_matrix"
   ]
  },
  {
   "cell_type": "code",
   "execution_count": 26,
   "metadata": {},
   "outputs": [
    {
     "name": "stdout",
     "output_type": "stream",
     "text": [
      "17 17\n"
     ]
    }
   ],
   "source": [
    "actual = [1,1,2,0,0,2,0,1,0,1,1,2,0,1,1,2,2]\n",
    "predict =[0,2,2,0,1,0,0,1,0,0,1,2,2,2,2,2,1]\n",
    "print(len(actual),len(predict))"
   ]
  },
  {
   "cell_type": "code",
   "execution_count": 27,
   "metadata": {},
   "outputs": [
    {
     "name": "stdout",
     "output_type": "stream",
     "text": [
      "[[3 1 1]\n",
      " [2 2 3]\n",
      " [1 1 3]]\n"
     ]
    }
   ],
   "source": [
    "print(confusion_matrix(actual,predict))"
   ]
  },
  {
   "cell_type": "code",
   "execution_count": 28,
   "metadata": {},
   "outputs": [
    {
     "name": "stdout",
     "output_type": "stream",
     "text": [
      "              precision    recall  f1-score   support\n",
      "\n",
      "           0       0.50      0.60      0.55         5\n",
      "           1       0.50      0.29      0.36         7\n",
      "           2       0.43      0.60      0.50         5\n",
      "\n",
      "    accuracy                           0.47        17\n",
      "   macro avg       0.48      0.50      0.47        17\n",
      "weighted avg       0.48      0.47      0.46        17\n",
      "\n"
     ]
    }
   ],
   "source": [
    "print(cr(actual,predict))   # report will come out on the basis of actual "
   ]
  },
  {
   "cell_type": "code",
   "execution_count": 29,
   "metadata": {},
   "outputs": [
    {
     "name": "stdout",
     "output_type": "stream",
     "text": [
      "[[3 1 1]\n",
      " [2 2 3]\n",
      " [1 1 3]]\n"
     ]
    }
   ],
   "source": [
    "print(confusion_matrix(actual,predict))"
   ]
  },
  {
   "cell_type": "code",
   "execution_count": 58,
   "metadata": {},
   "outputs": [
    {
     "name": "stdout",
     "output_type": "stream",
     "text": [
      "pr0 - 0.5\n",
      "pr1 - 0.5\n",
      "pr2 - 0.42857142857142855\n"
     ]
    }
   ],
   "source": [
    "# precision \n",
    "#pr0 = tp / (tp + fp + fp)\n",
    "pr0 = 3 / (3+2+1)\n",
    "print('pr0 -', pr0)\n",
    "pr1 = 2/(1+2+1) \n",
    "print('pr1 -',pr1)\n",
    "pr2 = 3/(1+3+3)\n",
    "print('pr2 -', pr2)"
   ]
  },
  {
   "cell_type": "code",
   "execution_count": 31,
   "metadata": {},
   "outputs": [
    {
     "name": "stdout",
     "output_type": "stream",
     "text": [
      "rec0 - 0.6\n",
      "rec1 - 0.2857142857142857\n",
      "rec2 - 0.6\n"
     ]
    }
   ],
   "source": [
    "# Recall  or sensitivity or True Positive rate \n",
    "# rec= tp/(tp+fn+fn)\n",
    "rec0 = 3/(3+1+1)\n",
    "print('rec0 -',rec0)\n",
    "rec1= 2/(2+2+3)\n",
    "print('rec1 -',rec1)\n",
    "rec2 = 3/(3+1+1)\n",
    "print('rec2 -',rec2)"
   ]
  },
  {
   "cell_type": "code",
   "execution_count": 32,
   "metadata": {},
   "outputs": [
    {
     "name": "stdout",
     "output_type": "stream",
     "text": [
      "0.5454545454545454\n",
      "0.36363636363636365\n",
      "0.5\n"
     ]
    }
   ],
   "source": [
    "# f1 - score = 2*precision*recall/(precision+recall)\n",
    "f1_score0=2*pr0*rec0/(pr0+rec0)\n",
    "print(f1_score0)\n",
    "f1_score1=2*pr1*rec1/(pr1+rec1)\n",
    "print(f1_score1)\n",
    "f1_score2=2*pr2*rec2/(pr2+rec2)\n",
    "print(f1_score2)"
   ]
  },
  {
   "cell_type": "code",
   "execution_count": 33,
   "metadata": {},
   "outputs": [],
   "source": [
    "# support  in actual data have o is 5 time or 1 is 7 or 2 is 5 "
   ]
  },
  {
   "cell_type": "code",
   "execution_count": 34,
   "metadata": {},
   "outputs": [
    {
     "name": "stdout",
     "output_type": "stream",
     "text": [
      "0.47058823529411764\n"
     ]
    }
   ],
   "source": [
    "#Accuracy=tp+tn+tn/(tp,tn,tn,fn,fn,fn,fp,fp,fp)   all is 0,1,2 's tp is tn for each others\n",
    "Accuracy = (3+2+3) /(3+2+3+1+1+2+1+1+3)\n",
    "print(Accuracy)"
   ]
  },
  {
   "cell_type": "code",
   "execution_count": 50,
   "metadata": {},
   "outputs": [
    {
     "name": "stdout",
     "output_type": "stream",
     "text": [
      "macro_avg_precision - 0.37777777777777777\n",
      "macro_avg_recall - 0.49523809523809526\n",
      "macro_avg_f1-score - 0.4696969696969697\n"
     ]
    }
   ],
   "source": [
    "macro_avg_precision =(pr0+pr1+pr2)/3\n",
    "print('macro_avg_precision -',macro_avg_precision)\n",
    "macro_avg_recall = (rec0+rec1+rec2)/3\n",
    "print('macro_avg_recall -',macro_avg_recall)\n",
    "macro_f1_score = (f1_score0+f1_score1+f1_score2)/3\n",
    "print ('macro_avg_f1-score -',macro_f1_score)"
   ]
  },
  {
   "cell_type": "code",
   "execution_count": 60,
   "metadata": {},
   "outputs": [
    {
     "name": "stdout",
     "output_type": "stream",
     "text": [
      "weight_avg precision-  0.4789915966386554\n",
      "weight_avg recall-  0.47058823529411764\n",
      "weight_avg f1-score-  0.4572192513368984\n"
     ]
    }
   ],
   "source": [
    "weight_avg_precision = ((5*pr0)+(7*pr1)+(5*pr2))/17\n",
    "print('weight_avg precision- ',weight_avg_precision)\n",
    "\n",
    "weight_avg_recall = ((5*rec0)+(7*rec1)+(5*rec2))/17\n",
    "print('weight_avg recall- ',weight_avg_recall)\n",
    "\n",
    "weight_avg_f1_score = ((5*f1_score0)+(7*f1_score1)+(5*f1_score2))/17\n",
    "print('weight_avg f1-score- ',weight_avg_f1_score)"
   ]
  },
  {
   "cell_type": "code",
   "execution_count": 36,
   "metadata": {},
   "outputs": [
    {
     "name": "stdout",
     "output_type": "stream",
     "text": [
      "[[3 1 1]\n",
      " [2 2 3]\n",
      " [1 1 3]]\n"
     ]
    }
   ],
   "source": [
    "print(confusion_matrix(actual,predict))"
   ]
  },
  {
   "cell_type": "code",
   "execution_count": 37,
   "metadata": {},
   "outputs": [
    {
     "name": "stdout",
     "output_type": "stream",
     "text": [
      "              precision    recall  f1-score   support\n",
      "\n",
      "           0       0.50      0.60      0.55         5\n",
      "           1       0.50      0.29      0.36         7\n",
      "           2       0.43      0.60      0.50         5\n",
      "\n",
      "    accuracy                           0.47        17\n",
      "   macro avg       0.48      0.50      0.47        17\n",
      "weighted avg       0.48      0.47      0.46        17\n",
      "\n"
     ]
    }
   ],
   "source": [
    "print(cr(actual,predict))"
   ]
  },
  {
   "cell_type": "markdown",
   "metadata": {},
   "source": [
    "### Plot the confusion matrix"
   ]
  },
  {
   "cell_type": "code",
   "execution_count": 97,
   "metadata": {},
   "outputs": [
    {
     "name": "stdout",
     "output_type": "stream",
     "text": [
      "Confusion matrix, without normalization\n",
      "[[3 1 1]\n",
      " [2 2 3]\n",
      " [1 1 3]]\n"
     ]
    },
    {
     "data": {
      "image/png": "[encoded data removed]",
      "text/plain": [
       "<Figure size 432x288 with 2 Axes>"
      ]
     },
     "metadata": {
      "needs_background": "light"
     },
     "output_type": "display_data"
    }
   ],
   "source": [
    "cm = confusion_matrix(actual,predict,labels=[0,1,2])\n",
    "np.set_printoptions(precision=2)\n",
    "\n",
    "plt.figure()\n",
    "plot_confusion_matrix(cm,classes=[0,1,2], title = 'confusion Matirx')"
   ]
  },
  {
   "cell_type": "markdown",
   "metadata": {},
   "source": [
    "## Plot the sigmoid function - using numpy"
   ]
  },
  {
   "cell_type": "code",
   "execution_count": 71,
   "metadata": {},
   "outputs": [],
   "source": [
    "# https://gist.github.com/Will-777/ad278c345639d24efb9d4cd275addbd2\n",
    "# https://www.geeksforgeeks.org/implement-sigmoid-function-using-numpy/"
   ]
  },
  {
   "cell_type": "code",
   "execution_count": 67,
   "metadata": {},
   "outputs": [],
   "source": [
    "import numpy as np\n",
    "import math \n",
    "import matplotlib.pyplot as plt"
   ]
  },
  {
   "cell_type": "code",
   "execution_count": 68,
   "metadata": {},
   "outputs": [
    {
     "name": "stdout",
     "output_type": "stream",
     "text": [
      "[-10  -9  -8  -7  -6  -5  -4  -3  -2  -1   0   1   2   3   4   5   6   7\n",
      "   8   9]\n"
     ]
    }
   ],
   "source": [
    "# d = ax+b\n",
    "x = np.arange(-10,10)\n",
    "print(x)"
   ]
  },
  {
   "cell_type": "code",
   "execution_count": 73,
   "metadata": {},
   "outputs": [
    {
     "name": "stdout",
     "output_type": "stream",
     "text": [
      "[-10.    -8.95  -7.89  -6.84  -5.79  -4.74  -3.68  -2.63  -1.58  -0.53\n",
      "   0.53   1.58   2.63   3.68   4.74   5.79   6.84   7.89   8.95  10.  ]\n"
     ]
    }
   ],
   "source": [
    "d = np.linspace(-10,10,20)\n",
    "print(d)"
   ]
  },
  {
   "cell_type": "code",
   "execution_count": 74,
   "metadata": {},
   "outputs": [
    {
     "name": "stdout",
     "output_type": "stream",
     "text": [
      "20\n",
      "20\n"
     ]
    }
   ],
   "source": [
    "print(len(x))\n",
    "print(len(d))"
   ]
  },
  {
   "cell_type": "code",
   "execution_count": 77,
   "metadata": {},
   "outputs": [
    {
     "name": "stdout",
     "output_type": "stream",
     "text": [
      "[4.54e-05 1.30e-04 3.73e-04 1.07e-03 3.05e-03 8.69e-03 2.45e-02 6.71e-02\n",
      " 1.71e-01 3.71e-01 6.29e-01 8.29e-01 9.33e-01 9.75e-01 9.91e-01 9.97e-01\n",
      " 9.99e-01 1.00e+00 1.00e+00 1.00e+00]\n"
     ]
    }
   ],
   "source": [
    "z = 1/(1+np.exp(-d))\n",
    "print(z)"
   ]
  },
  {
   "cell_type": "code",
   "execution_count": 78,
   "metadata": {},
   "outputs": [
    {
     "data": {
      "image/png": "[encoded data removed]",
      "text/plain": [
       "<Figure size 432x288 with 1 Axes>"
      ]
     },
     "metadata": {
      "needs_background": "light"
     },
     "output_type": "display_data"
    }
   ],
   "source": [
    "plt.plot(x,z,marker='*')\n",
    "plt.xlabel('x')\n",
    "plt.ylabel('sigmund(x)')\n",
    "plt.show()"
   ]
  },
  {
   "cell_type": "markdown",
   "metadata": {},
   "source": [
    "### Understanding exercises -  \n"
   ]
  },
  {
   "cell_type": "code",
   "execution_count": 85,
   "metadata": {},
   "outputs": [
    {
     "data": {
      "text/plain": [
       "array([[0, 3, 0],\n",
       "       [0, 1, 0],\n",
       "       [0, 0, 2]], dtype=int64)"
      ]
     },
     "execution_count": 85,
     "metadata": {},
     "output_type": "execute_result"
    }
   ],
   "source": [
    "from sklearn.metrics import confusion_matrix\n",
    "\n",
    "y_true = [0,1,2,0,0,2]\n",
    "y_pred = [1,1,2,1,1,2]\n",
    "\n",
    "classes = [0,1,2]\n",
    "\n",
    "confusion_matrix(y_true, y_pred, labels=[0,1,2])"
   ]
  },
  {
   "cell_type": "markdown",
   "metadata": {},
   "source": [
    "# here we can put any tabel and get result on plot with normlization or without normalization"
   ]
  },
  {
   "cell_type": "code",
   "execution_count": 104,
   "metadata": {},
   "outputs": [
    {
     "name": "stdout",
     "output_type": "stream",
     "text": [
      "Confusion matrix, without normalization\n",
      "[[3 1 1]\n",
      " [1 3 1]\n",
      " [3 2 2]]\n"
     ]
    },
    {
     "data": {
      "image/png": "[encoded data removed]",
      "text/plain": [
       "<Figure size 432x288 with 2 Axes>"
      ]
     },
     "metadata": {
      "needs_background": "light"
     },
     "output_type": "display_data"
    }
   ],
   "source": [
    "import numpy as np\n",
    "import  matplotlib.pyplot as plt\n",
    "def plot_confusion_matrix(cm, classes,\n",
    "                          normalize=False,\n",
    "                          title='Confusion matrix',\n",
    "                          cmap=plt.cm.Blues):\n",
    "    \"\"\"\n",
    "    This function prints and plots the confusion matrix.\n",
    "    Normalization can be applied by setting `normalize=True`.\n",
    "    \"\"\"\n",
    "    import itertools\n",
    "    if normalize:\n",
    "        cm = cm.astype('float') / cm.sum(axis=1)[:, np.newaxis]\n",
    "        print(\"Normalized confusion matrix\")\n",
    "    else:\n",
    "        print('Confusion matrix, without normalization')\n",
    "\n",
    "    print(cm)\n",
    "\n",
    "    plt.imshow(cm, interpolation='nearest', cmap=cmap)\n",
    "    plt.title(title)\n",
    "    plt.colorbar()\n",
    "    tick_marks = np.arange(len(classes))\n",
    "    plt.xticks(tick_marks, classes, rotation=45)\n",
    "    plt.yticks(tick_marks, classes)\n",
    "\n",
    "    fmt = '.2f' if normalize else 'd'\n",
    "    thresh = cm.max() / 2.\n",
    "    for i, j in itertools.product(range(cm.shape[0]), range(cm.shape[1])):\n",
    "        plt.text(j, i, format(cm[i, j], fmt),\n",
    "                 horizontalalignment=\"center\",\n",
    "                 color=\"white\" if cm[i, j] > thresh else \"black\")\n",
    "\n",
    "    plt.ylabel('True label')\n",
    "    plt.xlabel('Predicted label')\n",
    "    plt.tight_layout()\n",
    "#like this:\n",
    "\n",
    "cnf_matrix = confusion_matrix(actual, predict,labels=[2,0,1])\n",
    "np.set_printoptions(precision=2)\n",
    "\n",
    "# Plot non-normalized confusion matrix\n",
    "plt.figure()\n",
    "plot_confusion_matrix(cnf_matrix, classes=[2,0,1],\n",
    "                      title='Confusion matrix, without normalization')"
   ]
  },
  {
   "cell_type": "code",
   "execution_count": null,
   "metadata": {},
   "outputs": [],
   "source": []
  },
  {
   "cell_type": "code",
   "execution_count": 48,
   "metadata": {},
   "outputs": [
    {
     "data": {
      "text/plain": [
       "array([[0, 3, 0],\n",
       "       [0, 1, 0],\n",
       "       [0, 0, 2]], dtype=int64)"
      ]
     },
     "execution_count": 48,
     "metadata": {},
     "output_type": "execute_result"
    }
   ],
   "source": [
    "from sklearn.metrics import confusion_matrix\n",
    "\n",
    "y_true = ['Cat', 'Dog', 'Rabbit', 'Cat', 'Cat', 'Rabbit']\n",
    "y_pred = ['Dog', 'Dog', 'Rabbit', 'Dog', 'Dog', 'Rabbit']\n",
    "\n",
    "classes=['Cat', 'Dog', 'Rabbit']\n",
    "\n",
    "confusion_matrix(y_true, y_pred, labels=['Cat', 'Dog', 'Rabbit'])"
   ]
  },
  {
   "cell_type": "code",
   "execution_count": 49,
   "metadata": {},
   "outputs": [
    {
     "name": "stdout",
     "output_type": "stream",
     "text": [
      "Confusion matrix, without normalization\n",
      "[[0 3 0]\n",
      " [0 1 0]\n",
      " [0 0 2]]\n"
     ]
    },
    {
     "data": {
      "image/png": "[encoded data removed]",
      "text/plain": [
       "<Figure size 432x288 with 2 Axes>"
      ]
     },
     "metadata": {
      "needs_background": "light"
     },
     "output_type": "display_data"
    }
   ],
   "source": [
    "import numpy as np\n",
    "import  matplotlib.pyplot as plt\n",
    "def plot_confusion_matrix(cm, classes,\n",
    "                          normalize=False,\n",
    "                          title='Confusion matrix',\n",
    "                          cmap=plt.cm.Blues):\n",
    "    \"\"\"\n",
    "    This function prints and plots the confusion matrix.\n",
    "    Normalization can be applied by setting `normalize=True`.\n",
    "    \"\"\"\n",
    "    import itertools\n",
    "    if normalize:\n",
    "        cm = cm.astype('float') / cm.sum(axis=1)[:, np.newaxis]\n",
    "        print(\"Normalized confusion matrix\")\n",
    "    else:\n",
    "        print('Confusion matrix, without normalization')\n",
    "\n",
    "    print(cm)\n",
    "\n",
    "    plt.imshow(cm, interpolation='nearest', cmap=cmap)\n",
    "    plt.title(title)\n",
    "    plt.colorbar()\n",
    "    tick_marks = np.arange(len(classes))\n",
    "    plt.xticks(tick_marks, classes, rotation=45)\n",
    "    plt.yticks(tick_marks, classes)\n",
    "\n",
    "    fmt = '.2f' if normalize else 'd'\n",
    "    thresh = cm.max() / 2.\n",
    "    for i, j in itertools.product(range(cm.shape[0]), range(cm.shape[1])):\n",
    "        plt.text(j, i, format(cm[i, j], fmt),\n",
    "                 horizontalalignment=\"center\",\n",
    "                 color=\"white\" if cm[i, j] > thresh else \"black\")\n",
    "\n",
    "    plt.ylabel('True label')\n",
    "    plt.xlabel('Predicted label')\n",
    "    plt.tight_layout()\n",
    "#like this:\n",
    "\n",
    "cnf_matrix = confusion_matrix(y_true, y_pred,labels=['Cat', 'Dog', 'Rabbit'])\n",
    "np.set_printoptions(precision=2)\n",
    "\n",
    "# Plot non-normalized confusion matrix\n",
    "plt.figure()\n",
    "plot_confusion_matrix(cnf_matrix, classes=['Cat', 'Dog', 'Rabbit'],\n",
    "                      title='Confusion matrix, without normalization')"
   ]
  },
  {
   "cell_type": "code",
   "execution_count": null,
   "metadata": {},
   "outputs": [],
   "source": []
  }
 ],
 "metadata": {
  "kernelspec": {
   "display_name": "Python 3",
   "language": "python",
   "name": "python3"
  },
  "language_info": {
   "codemirror_mode": {
    "name": "ipython",
    "version": 3
   },
   "file_extension": ".py",
   "mimetype": "text/x-python",
   "name": "python",
   "nbconvert_exporter": "python",
   "pygments_lexer": "ipython3",
   "version": "3.8.5"
  }
 },
 "nbformat": 4,
 "nbformat_minor": 2
}
